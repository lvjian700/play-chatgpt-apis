{
 "cells": [
  {
   "cell_type": "code",
   "execution_count": 1,
   "id": "386cc8a8-ecda-4383-9c91-f2705dea1350",
   "metadata": {},
   "outputs": [
    {
     "name": "stdout",
     "output_type": "stream",
     "text": [
      "/usr/local/opt/python@3.11/bin/python3.11\n"
     ]
    }
   ],
   "source": [
    "import sys\n",
    "print(sys.executable)"
   ]
  },
  {
   "cell_type": "code",
   "execution_count": 2,
   "id": "9a10459f-d3b3-445e-bfb5-a937db308c9d",
   "metadata": {},
   "outputs": [
    {
     "name": "stdout",
     "output_type": "stream",
     "text": [
      "Requirement already satisfied: openai in /usr/local/lib/python3.11/site-packages (1.8.0)\n",
      "Requirement already satisfied: anyio<5,>=3.5.0 in /usr/local/lib/python3.11/site-packages (from openai) (3.6.2)\n",
      "Requirement already satisfied: distro<2,>=1.7.0 in /usr/local/lib/python3.11/site-packages (from openai) (1.9.0)\n",
      "Requirement already satisfied: httpx<1,>=0.23.0 in /usr/local/lib/python3.11/site-packages (from openai) (0.26.0)\n",
      "Requirement already satisfied: pydantic<3,>=1.9.0 in /usr/local/lib/python3.11/site-packages (from openai) (2.5.3)\n",
      "Requirement already satisfied: sniffio in /usr/local/lib/python3.11/site-packages (from openai) (1.3.0)\n",
      "Requirement already satisfied: tqdm>4 in /usr/local/lib/python3.11/site-packages (from openai) (4.65.0)\n",
      "Requirement already satisfied: typing-extensions<5,>=4.7 in /usr/local/lib/python3.11/site-packages (from openai) (4.9.0)\n",
      "Requirement already satisfied: idna>=2.8 in /usr/local/lib/python3.11/site-packages (from anyio<5,>=3.5.0->openai) (3.4)\n",
      "Requirement already satisfied: certifi in /usr/local/lib/python3.11/site-packages (from httpx<1,>=0.23.0->openai) (2023.5.7)\n",
      "Requirement already satisfied: httpcore==1.* in /usr/local/lib/python3.11/site-packages (from httpx<1,>=0.23.0->openai) (1.0.2)\n",
      "Requirement already satisfied: h11<0.15,>=0.13 in /usr/local/lib/python3.11/site-packages (from httpcore==1.*->httpx<1,>=0.23.0->openai) (0.14.0)\n",
      "Requirement already satisfied: annotated-types>=0.4.0 in /usr/local/lib/python3.11/site-packages (from pydantic<3,>=1.9.0->openai) (0.6.0)\n",
      "Requirement already satisfied: pydantic-core==2.14.6 in /usr/local/lib/python3.11/site-packages (from pydantic<3,>=1.9.0->openai) (2.14.6)\n",
      "\n",
      "\u001b[1m[\u001b[0m\u001b[34;49mnotice\u001b[0m\u001b[1;39;49m]\u001b[0m\u001b[39;49m A new release of pip is available: \u001b[0m\u001b[31;49m23.3.1\u001b[0m\u001b[39;49m -> \u001b[0m\u001b[32;49m23.3.2\u001b[0m\n",
      "\u001b[1m[\u001b[0m\u001b[34;49mnotice\u001b[0m\u001b[1;39;49m]\u001b[0m\u001b[39;49m To update, run: \u001b[0m\u001b[32;49mpython3.11 -m pip install --upgrade pip\u001b[0m\n"
     ]
    }
   ],
   "source": [
    "!pip install openai"
   ]
  },
  {
   "cell_type": "code",
   "execution_count": 3,
   "id": "abaf932d-fe06-4018-b102-e11939243590",
   "metadata": {},
   "outputs": [],
   "source": [
    "import json\n",
    "\n",
    "def show_json(obj):\n",
    "    display(json.loads(obj.model_dump_json()))"
   ]
  },
  {
   "cell_type": "markdown",
   "id": "d6b498ae-05cf-475c-a264-f7fa7b3b302f",
   "metadata": {},
   "source": [
    "## Demo 1 - ChatBot with Assistant API"
   ]
  },
  {
   "cell_type": "code",
   "execution_count": 4,
   "id": "0385e0c1-57fe-4272-8a27-f35daffb5e02",
   "metadata": {},
   "outputs": [
    {
     "data": {
      "text/plain": [
       "{'id': 'asst_wGQtVxga1nqkFMNnzv9IMRDb',\n",
       " 'created_at': 1705807926,\n",
       " 'description': None,\n",
       " 'file_ids': [],\n",
       " 'instructions': 'You are a personal math tutor. Answer questions briefly, in a sentence or less.',\n",
       " 'metadata': {},\n",
       " 'model': 'gpt-3.5-turbo-1106',\n",
       " 'name': 'Math Tutor',\n",
       " 'object': 'assistant',\n",
       " 'tools': []}"
      ]
     },
     "metadata": {},
     "output_type": "display_data"
    }
   ],
   "source": [
    "from openai import OpenAI\n",
    "\n",
    "client = OpenAI()\n",
    "\n",
    "assistant = client.beta.assistants.create(\n",
    "    name=\"Math Tutor\",\n",
    "    instructions=\"You are a personal math tutor. Answer questions briefly, in a sentence or less.\",\n",
    "    model=\"gpt-3.5-turbo-1106\",\n",
    ")\n",
    "show_json(assistant)"
   ]
  },
  {
   "cell_type": "code",
   "execution_count": 7,
   "id": "b6ff963e-bdac-4bef-af8d-6bf8b7fd3bac",
   "metadata": {},
   "outputs": [
    {
     "data": {
      "text/plain": [
       "{'id': 'msg_1Cgz8ONOihIzGQE8EkpL3lNw',\n",
       " 'assistant_id': None,\n",
       " 'content': [{'text': {'annotations': [],\n",
       "    'value': \"Can you help me to solve `3x + 1 = 10`, what's the value x?\"},\n",
       "   'type': 'text'}],\n",
       " 'created_at': 1705808147,\n",
       " 'file_ids': [],\n",
       " 'metadata': {},\n",
       " 'object': 'thread.message',\n",
       " 'role': 'user',\n",
       " 'run_id': None,\n",
       " 'thread_id': 'thread_vPIC8U7fdaFsXRgSLXpf88Ir'}"
      ]
     },
     "metadata": {},
     "output_type": "display_data"
    }
   ],
   "source": [
    "# 1. Create a thread\n",
    "thread = client.beta.threads.create()\n",
    "# 2. Create a message\n",
    "message = client.beta.threads.messages.create(\n",
    "    thread_id=thread.id,\n",
    "    role=\"user\",\n",
    "    content=\"Can you help me to solve `3x + 1 = 10`, what's the value x?\"\n",
    ")\n",
    "show_json(message)\n"
   ]
  },
  {
   "cell_type": "code",
   "execution_count": 8,
   "id": "f99c2971-cc36-46b2-845d-6e4f17555f8d",
   "metadata": {},
   "outputs": [
    {
     "data": {
      "text/plain": [
       "{'id': 'run_J8lVF7YtDezQums1Qq2uiNsW',\n",
       " 'assistant_id': 'asst_wGQtVxga1nqkFMNnzv9IMRDb',\n",
       " 'cancelled_at': None,\n",
       " 'completed_at': None,\n",
       " 'created_at': 1705808190,\n",
       " 'expires_at': 1705808790,\n",
       " 'failed_at': None,\n",
       " 'file_ids': [],\n",
       " 'instructions': 'You are a personal math tutor. Answer questions briefly, in a sentence or less.',\n",
       " 'last_error': None,\n",
       " 'metadata': {},\n",
       " 'model': 'gpt-3.5-turbo-1106',\n",
       " 'object': 'thread.run',\n",
       " 'required_action': None,\n",
       " 'started_at': None,\n",
       " 'status': 'queued',\n",
       " 'thread_id': 'thread_vPIC8U7fdaFsXRgSLXpf88Ir',\n",
       " 'tools': [],\n",
       " 'usage': None}"
      ]
     },
     "metadata": {},
     "output_type": "display_data"
    }
   ],
   "source": [
    "# 3. Create a run\n",
    "run = client.beta.threads.runs.create(thread_id=thread.id, assistant_id=assistant.id)\n",
    "show_json(run)"
   ]
  },
  {
   "cell_type": "code",
   "execution_count": 11,
   "id": "ce2ceeba-4d0f-40e2-b783-c31de6d74ba4",
   "metadata": {},
   "outputs": [],
   "source": [
    "import time\n",
    "\n",
    "def wait_on_run(run, thread):\n",
    "    while run.status == \"queued\" or run.status == \"in_progress\":\n",
    "        run = client.beta.threads.runs.retrieve(\n",
    "            thread_id=thread.id,\n",
    "            run_id=run.id,\n",
    "        )\n",
    "        time.sleep(0.5)\n",
    "    return run"
   ]
  },
  {
   "cell_type": "code",
   "execution_count": 12,
   "id": "1322599a-7413-48d1-961f-ee693ca65e1e",
   "metadata": {},
   "outputs": [
    {
     "data": {
      "text/plain": [
       "{'id': 'run_J8lVF7YtDezQums1Qq2uiNsW',\n",
       " 'assistant_id': 'asst_wGQtVxga1nqkFMNnzv9IMRDb',\n",
       " 'cancelled_at': None,\n",
       " 'completed_at': 1705808191,\n",
       " 'created_at': 1705808190,\n",
       " 'expires_at': None,\n",
       " 'failed_at': None,\n",
       " 'file_ids': [],\n",
       " 'instructions': 'You are a personal math tutor. Answer questions briefly, in a sentence or less.',\n",
       " 'last_error': None,\n",
       " 'metadata': {},\n",
       " 'model': 'gpt-3.5-turbo-1106',\n",
       " 'object': 'thread.run',\n",
       " 'required_action': None,\n",
       " 'started_at': 1705808190,\n",
       " 'status': 'completed',\n",
       " 'thread_id': 'thread_vPIC8U7fdaFsXRgSLXpf88Ir',\n",
       " 'tools': [],\n",
       " 'usage': {'prompt_tokens': 49, 'completion_tokens': 6, 'total_tokens': 55}}"
      ]
     },
     "metadata": {},
     "output_type": "display_data"
    }
   ],
   "source": [
    "# 4. Retrieve the result from run\n",
    "run = wait_on_run(run, thread)\n",
    "show_json(run)"
   ]
  },
  {
   "cell_type": "code",
   "execution_count": 13,
   "id": "7bd1320e-0123-4a58-9b85-c2c736336187",
   "metadata": {},
   "outputs": [
    {
     "data": {
      "text/plain": [
       "{'data': [{'id': 'msg_FHPZHWBElqD7LYgI4tmmzUq2',\n",
       "   'assistant_id': 'asst_wGQtVxga1nqkFMNnzv9IMRDb',\n",
       "   'content': [{'text': {'annotations': [], 'value': 'x = 3'},\n",
       "     'type': 'text'}],\n",
       "   'created_at': 1705808191,\n",
       "   'file_ids': [],\n",
       "   'metadata': {},\n",
       "   'object': 'thread.message',\n",
       "   'role': 'assistant',\n",
       "   'run_id': 'run_J8lVF7YtDezQums1Qq2uiNsW',\n",
       "   'thread_id': 'thread_vPIC8U7fdaFsXRgSLXpf88Ir'},\n",
       "  {'id': 'msg_1Cgz8ONOihIzGQE8EkpL3lNw',\n",
       "   'assistant_id': None,\n",
       "   'content': [{'text': {'annotations': [],\n",
       "      'value': \"Can you help me to solve `3x + 1 = 10`, what's the value x?\"},\n",
       "     'type': 'text'}],\n",
       "   'created_at': 1705808147,\n",
       "   'file_ids': [],\n",
       "   'metadata': {},\n",
       "   'object': 'thread.message',\n",
       "   'role': 'user',\n",
       "   'run_id': None,\n",
       "   'thread_id': 'thread_vPIC8U7fdaFsXRgSLXpf88Ir'}],\n",
       " 'object': 'list',\n",
       " 'first_id': 'msg_FHPZHWBElqD7LYgI4tmmzUq2',\n",
       " 'last_id': 'msg_1Cgz8ONOihIzGQE8EkpL3lNw',\n",
       " 'has_more': False}"
      ]
     },
     "metadata": {},
     "output_type": "display_data"
    }
   ],
   "source": [
    "messages = client.beta.threads.messages.list(thread_id=thread.id)\n",
    "show_json(messages)"
   ]
  },
  {
   "cell_type": "code",
   "execution_count": 14,
   "id": "4c520e87-6899-4947-9071-fe4c80fe40e4",
   "metadata": {},
   "outputs": [
    {
     "data": {
      "text/plain": [
       "{'data': [{'id': 'msg_DgakHk4R8Tr5HWGP4X9uS2Rd',\n",
       "   'assistant_id': 'asst_wGQtVxga1nqkFMNnzv9IMRDb',\n",
       "   'content': [{'text': {'annotations': [],\n",
       "      'value': 'Sure, you can solve for x by subtracting 1 from both sides of the equation to isolate the variable x.'},\n",
       "     'type': 'text'}],\n",
       "   'created_at': 1705808329,\n",
       "   'file_ids': [],\n",
       "   'metadata': {},\n",
       "   'object': 'thread.message',\n",
       "   'role': 'assistant',\n",
       "   'run_id': 'run_jTMW93EredZWGc4hGu7mSx0e',\n",
       "   'thread_id': 'thread_vPIC8U7fdaFsXRgSLXpf88Ir'}],\n",
       " 'object': 'list',\n",
       " 'first_id': 'msg_DgakHk4R8Tr5HWGP4X9uS2Rd',\n",
       " 'last_id': 'msg_DgakHk4R8Tr5HWGP4X9uS2Rd',\n",
       " 'has_more': False}"
      ]
     },
     "metadata": {},
     "output_type": "display_data"
    }
   ],
   "source": [
    "# Create a message to append to our thread\n",
    "message = client.beta.threads.messages.create(\n",
    "    thread_id=thread.id, role=\"user\", content=\"Could you explain this to me?\"\n",
    ")\n",
    "\n",
    "# Execute our run\n",
    "run = client.beta.threads.runs.create(\n",
    "    thread_id=thread.id,\n",
    "    assistant_id=assistant.id,\n",
    ")\n",
    "\n",
    "# Wait for completion\n",
    "wait_on_run(run, thread)\n",
    "\n",
    "# Retrieve all the messages added after our last user message\n",
    "messages = client.beta.threads.messages.list(\n",
    "    thread_id=thread.id, order=\"asc\", after=message.id\n",
    ")\n",
    "show_json(messages)"
   ]
  },
  {
   "cell_type": "markdown",
   "id": "2397a81e-97f2-4fed-b341-4ab95f4977be",
   "metadata": {},
   "source": [
    "## Demo 2  - Q&A document "
   ]
  },
  {
   "cell_type": "code",
   "execution_count": 45,
   "id": "31f53f28-dbb2-4b59-989f-201ce8ee353e",
   "metadata": {},
   "outputs": [],
   "source": [
    "client = OpenAI()\n",
    "\n",
    "assistant = client.beta.assistants.create(\n",
    "    name=\"Finance Assistant\",\n",
    "    instructions=\"'You are a personal math tutor. Answer questions briefly, in a sentence or less.\",\n",
    "    model=\"gpt-4-1106-preview\"\n",
    ")\n",
    "\n",
    "def submit_message(assistant_id, thread, user_message):\n",
    "    client.beta.threads.messages.create(\n",
    "        thread_id=thread.id, role=\"user\", content=user_message\n",
    "    )\n",
    "    return client.beta.threads.runs.create(\n",
    "        thread_id=thread.id,\n",
    "        assistant_id=assistant_id,\n",
    "    )\n",
    "\n",
    "\n",
    "def get_response(thread):\n",
    "    return client.beta.threads.messages.list(thread_id=thread.id, order=\"asc\")"
   ]
  },
  {
   "cell_type": "code",
   "execution_count": 46,
   "id": "bbe15995-39ae-48bc-828b-d155b288ba97",
   "metadata": {},
   "outputs": [],
   "source": [
    "def create_thread_and_run(user_input):\n",
    "    thread = client.beta.threads.create()\n",
    "    run = submit_message(MATH_ASSISTANT_ID, thread, user_input)\n",
    "    return thread, run"
   ]
  },
  {
   "cell_type": "code",
   "execution_count": 47,
   "id": "52157de5-7338-4747-bb7d-df33ac9cc96a",
   "metadata": {},
   "outputs": [
    {
     "data": {
      "text/plain": [
       "{'id': 'asst_3Z6nq2PJXLOrJ4g8uZ83WxrG',\n",
       " 'created_at': 1705827173,\n",
       " 'description': None,\n",
       " 'file_ids': ['file-YFuGSGvN5sN1YTciKOmtvBcx'],\n",
       " 'instructions': \"'You are a personal math tutor. Answer questions briefly, in a sentence or less.\",\n",
       " 'metadata': {},\n",
       " 'model': 'gpt-4-1106-preview',\n",
       " 'name': 'Finance Assistant',\n",
       " 'object': 'assistant',\n",
       " 'tools': [{'type': 'code_interpreter'}, {'type': 'retrieval'}]}"
      ]
     },
     "metadata": {},
     "output_type": "display_data"
    }
   ],
   "source": [
    "# Upload the file\n",
    "file = client.files.create(\n",
    "    file=open(\n",
    "        \"data/language_models_are_unsupervised_multitask_learners.pdf\",\n",
    "        \"rb\",\n",
    "    ),\n",
    "    purpose=\"assistants\",\n",
    ")\n",
    "\n",
    "# Update Assistant\n",
    "assistant = client.beta.assistants.update(\n",
    "    assistant.id,\n",
    "    tools=[{\"type\": \"code_interpreter\"}, {\"type\": \"retrieval\"}],\n",
    "    file_ids=[file.id]\n",
    ")\n",
    "show_json(assistant)"
   ]
  },
  {
   "cell_type": "code",
   "execution_count": 48,
   "id": "3d3f5693-121c-4383-862e-ccf2a3ab82df",
   "metadata": {},
   "outputs": [
    {
     "data": {
      "text/plain": [
       "'completed'"
      ]
     },
     "execution_count": 48,
     "metadata": {},
     "output_type": "execute_result"
    }
   ],
   "source": [
    "thread, run = create_thread_and_run(\n",
    "    \"What are some cool math concepts behind this ML paper pdf? Explain in two sentences.\"\n",
    ")\n",
    "run = wait_on_run(run, thread)\n",
    "run.status"
   ]
  },
  {
   "cell_type": "code",
   "execution_count": 49,
   "id": "ee3da10e-5602-4f16-bc9f-27f43a27d590",
   "metadata": {},
   "outputs": [],
   "source": [
    "# Pretty printing helper\n",
    "def pretty_print(messages):\n",
    "    print(\"# Messages\")\n",
    "    for m in messages:\n",
    "        print(f\"{m.role}: {m.content[0].text.value}\")\n",
    "    print()\n"
   ]
  },
  {
   "cell_type": "code",
   "execution_count": 50,
   "id": "2b5834e2-0987-4afd-9614-fd4f9443e290",
   "metadata": {},
   "outputs": [
    {
     "name": "stdout",
     "output_type": "stream",
     "text": [
      "# Messages\n",
      "user: What are some cool math concepts behind this ML paper pdf? Explain in two sentences.\n",
      "assistant: It seems there was a problem with the content of the PDF you uploaded. The file might be corrupted or empty. Could you please check the file on your end and re-upload it if necessary?\n",
      "\n"
     ]
    }
   ],
   "source": [
    "pretty_print(get_response(thread))"
   ]
  },
  {
   "cell_type": "code",
   "execution_count": null,
   "id": "21eaeb9b-8be2-47b5-8f6e-84e2b2c7b299",
   "metadata": {},
   "outputs": [],
   "source": []
  },
  {
   "cell_type": "code",
   "execution_count": null,
   "id": "d5919fe4-4091-44f1-976b-690988b9ae62",
   "metadata": {},
   "outputs": [],
   "source": []
  },
  {
   "cell_type": "code",
   "execution_count": null,
   "id": "f15983a2-67d1-40ed-9572-725d6e8862ef",
   "metadata": {},
   "outputs": [],
   "source": []
  }
 ],
 "metadata": {
  "kernelspec": {
   "display_name": "Python (Global)",
   "language": "python",
   "name": "global-python"
  },
  "language_info": {
   "codemirror_mode": {
    "name": "ipython",
    "version": 3
   },
   "file_extension": ".py",
   "mimetype": "text/x-python",
   "name": "python",
   "nbconvert_exporter": "python",
   "pygments_lexer": "ipython3",
   "version": "3.11.7"
  }
 },
 "nbformat": 4,
 "nbformat_minor": 5
}

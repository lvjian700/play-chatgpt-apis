{
 "cells": [
  {
   "cell_type": "code",
   "execution_count": 1,
   "id": "20f5a934-0625-48f5-a009-82f505c71828",
   "metadata": {
    "scrolled": true
   },
   "outputs": [
    {
     "name": "stdout",
     "output_type": "stream",
     "text": [
      "Collecting google-api-python-client\n",
      "  Downloading google_api_python_client-2.115.0-py2.py3-none-any.whl.metadata (6.6 kB)\n",
      "Collecting google-auth-httplib2\n",
      "  Downloading google_auth_httplib2-0.2.0-py2.py3-none-any.whl.metadata (2.2 kB)\n",
      "Collecting google-auth-oauthlib\n",
      "  Downloading google_auth_oauthlib-1.2.0-py2.py3-none-any.whl.metadata (2.7 kB)\n",
      "Collecting httplib2<1.dev0,>=0.15.0 (from google-api-python-client)\n",
      "  Downloading httplib2-0.22.0-py3-none-any.whl (96 kB)\n",
      "\u001b[2K     \u001b[38;2;114;156;31m━━━━━━━━━━━━━━━━━━━━━━━━━━━━━━━━━━━━━━━━\u001b[0m \u001b[32m96.9/96.9 kB\u001b[0m \u001b[31m2.1 MB/s\u001b[0m eta \u001b[36m0:00:00\u001b[0m MB/s\u001b[0m eta \u001b[36m0:00:01\u001b[0m\n",
      "\u001b[?25hCollecting google-auth<3.0.0.dev0,>=1.19.0 (from google-api-python-client)\n",
      "  Downloading google_auth-2.26.2-py2.py3-none-any.whl.metadata (4.7 kB)\n",
      "Collecting google-api-core!=2.0.*,!=2.1.*,!=2.2.*,!=2.3.0,<3.0.0.dev0,>=1.31.5 (from google-api-python-client)\n",
      "  Downloading google_api_core-2.15.0-py3-none-any.whl.metadata (2.7 kB)\n",
      "Collecting uritemplate<5,>=3.0.1 (from google-api-python-client)\n",
      "  Downloading uritemplate-4.1.1-py2.py3-none-any.whl (10 kB)\n",
      "Collecting requests-oauthlib>=0.7.0 (from google-auth-oauthlib)\n",
      "  Downloading requests_oauthlib-1.3.1-py2.py3-none-any.whl (23 kB)\n",
      "Collecting googleapis-common-protos<2.0.dev0,>=1.56.2 (from google-api-core!=2.0.*,!=2.1.*,!=2.2.*,!=2.3.0,<3.0.0.dev0,>=1.31.5->google-api-python-client)\n",
      "  Downloading googleapis_common_protos-1.62.0-py2.py3-none-any.whl.metadata (1.5 kB)\n",
      "Collecting protobuf!=3.20.0,!=3.20.1,!=4.21.0,!=4.21.1,!=4.21.2,!=4.21.3,!=4.21.4,!=4.21.5,<5.0.0.dev0,>=3.19.5 (from google-api-core!=2.0.*,!=2.1.*,!=2.2.*,!=2.3.0,<3.0.0.dev0,>=1.31.5->google-api-python-client)\n",
      "  Downloading protobuf-4.25.2-cp37-abi3-macosx_10_9_universal2.whl.metadata (541 bytes)\n",
      "Requirement already satisfied: requests<3.0.0.dev0,>=2.18.0 in /usr/local/lib/python3.11/site-packages (from google-api-core!=2.0.*,!=2.1.*,!=2.2.*,!=2.3.0,<3.0.0.dev0,>=1.31.5->google-api-python-client) (2.31.0)\n",
      "Collecting cachetools<6.0,>=2.0.0 (from google-auth<3.0.0.dev0,>=1.19.0->google-api-python-client)\n",
      "  Downloading cachetools-5.3.2-py3-none-any.whl.metadata (5.2 kB)\n",
      "Collecting pyasn1-modules>=0.2.1 (from google-auth<3.0.0.dev0,>=1.19.0->google-api-python-client)\n",
      "  Downloading pyasn1_modules-0.3.0-py2.py3-none-any.whl (181 kB)\n",
      "\u001b[2K     \u001b[38;2;114;156;31m━━━━━━━━━━━━━━━━━━━━━━━━━━━━━━━━━━━━━━━\u001b[0m \u001b[32m181.3/181.3 kB\u001b[0m \u001b[31m2.7 MB/s\u001b[0m eta \u001b[36m0:00:00\u001b[0m[31m4.5 MB/s\u001b[0m eta \u001b[36m0:00:01\u001b[0m\n",
      "\u001b[?25hCollecting rsa<5,>=3.1.4 (from google-auth<3.0.0.dev0,>=1.19.0->google-api-python-client)\n",
      "  Downloading rsa-4.9-py3-none-any.whl (34 kB)\n",
      "Requirement already satisfied: pyparsing!=3.0.0,!=3.0.1,!=3.0.2,!=3.0.3,<4,>=2.4.2 in /usr/local/lib/python3.11/site-packages (from httplib2<1.dev0,>=0.15.0->google-api-python-client) (3.0.9)\n",
      "Collecting oauthlib>=3.0.0 (from requests-oauthlib>=0.7.0->google-auth-oauthlib)\n",
      "  Downloading oauthlib-3.2.2-py3-none-any.whl (151 kB)\n",
      "\u001b[2K     \u001b[38;2;114;156;31m━━━━━━━━━━━━━━━━━━━━━━━━━━━━━━━━━━━━━━━\u001b[0m \u001b[32m151.7/151.7 kB\u001b[0m \u001b[31m2.1 MB/s\u001b[0m eta \u001b[36m0:00:00\u001b[0m[31m3.0 MB/s\u001b[0m eta \u001b[36m0:00:01\u001b[0m\n",
      "\u001b[?25hCollecting pyasn1<0.6.0,>=0.4.6 (from pyasn1-modules>=0.2.1->google-auth<3.0.0.dev0,>=1.19.0->google-api-python-client)\n",
      "  Downloading pyasn1-0.5.1-py2.py3-none-any.whl.metadata (8.6 kB)\n",
      "Requirement already satisfied: charset-normalizer<4,>=2 in /usr/local/lib/python3.11/site-packages (from requests<3.0.0.dev0,>=2.18.0->google-api-core!=2.0.*,!=2.1.*,!=2.2.*,!=2.3.0,<3.0.0.dev0,>=1.31.5->google-api-python-client) (3.2.0)\n",
      "Requirement already satisfied: idna<4,>=2.5 in /usr/local/lib/python3.11/site-packages (from requests<3.0.0.dev0,>=2.18.0->google-api-core!=2.0.*,!=2.1.*,!=2.2.*,!=2.3.0,<3.0.0.dev0,>=1.31.5->google-api-python-client) (3.4)\n",
      "Requirement already satisfied: urllib3<3,>=1.21.1 in /usr/local/lib/python3.11/site-packages (from requests<3.0.0.dev0,>=2.18.0->google-api-core!=2.0.*,!=2.1.*,!=2.2.*,!=2.3.0,<3.0.0.dev0,>=1.31.5->google-api-python-client) (2.0.3)\n",
      "Requirement already satisfied: certifi>=2017.4.17 in /usr/local/lib/python3.11/site-packages (from requests<3.0.0.dev0,>=2.18.0->google-api-core!=2.0.*,!=2.1.*,!=2.2.*,!=2.3.0,<3.0.0.dev0,>=1.31.5->google-api-python-client) (2023.5.7)\n",
      "Downloading google_api_python_client-2.115.0-py2.py3-none-any.whl (12.0 MB)\n",
      "\u001b[2K   \u001b[38;2;114;156;31m━━━━━━━━━━━━━━━━━━━━━━━━━━━━━━━━━━━━━━━━\u001b[0m \u001b[32m12.0/12.0 MB\u001b[0m \u001b[31m7.7 MB/s\u001b[0m eta \u001b[36m0:00:00\u001b[0mm eta \u001b[36m0:00:01\u001b[0m[36m0:00:01\u001b[0m\n",
      "\u001b[?25hDownloading google_auth_httplib2-0.2.0-py2.py3-none-any.whl (9.3 kB)\n",
      "Downloading google_auth_oauthlib-1.2.0-py2.py3-none-any.whl (24 kB)\n",
      "Downloading google_api_core-2.15.0-py3-none-any.whl (121 kB)\n",
      "\u001b[2K   \u001b[38;2;114;156;31m━━━━━━━━━━━━━━━━━━━━━━━━━━━━━━━━━━━━━━━━\u001b[0m \u001b[32m122.0/122.0 kB\u001b[0m \u001b[31m2.4 MB/s\u001b[0m eta \u001b[36m0:00:00\u001b[0m[31m6.0 MB/s\u001b[0m eta \u001b[36m0:00:01\u001b[0m\n",
      "\u001b[?25hDownloading google_auth-2.26.2-py2.py3-none-any.whl (186 kB)\n",
      "\u001b[2K   \u001b[38;2;114;156;31m━━━━━━━━━━━━━━━━━━━━━━━━━━━━━━━━━━━━━━━━\u001b[0m \u001b[32m186.5/186.5 kB\u001b[0m \u001b[31m4.7 MB/s\u001b[0m eta \u001b[36m0:00:00\u001b[0m0m eta \u001b[36m0:00:01\u001b[0m\n",
      "\u001b[?25hDownloading cachetools-5.3.2-py3-none-any.whl (9.3 kB)\n",
      "Downloading googleapis_common_protos-1.62.0-py2.py3-none-any.whl (228 kB)\n",
      "\u001b[2K   \u001b[38;2;114;156;31m━━━━━━━━━━━━━━━━━━━━━━━━━━━━━━━━━━━━━━━━\u001b[0m \u001b[32m228.7/228.7 kB\u001b[0m \u001b[31m4.8 MB/s\u001b[0m eta \u001b[36m0:00:00\u001b[0m\u001b[36m0:00:01\u001b[0m\n",
      "\u001b[?25hDownloading protobuf-4.25.2-cp37-abi3-macosx_10_9_universal2.whl (394 kB)\n",
      "\u001b[2K   \u001b[38;2;114;156;31m━━━━━━━━━━━━━━━━━━━━━━━━━━━━━━━━━━━━━━━━\u001b[0m \u001b[32m394.2/394.2 kB\u001b[0m \u001b[31m5.9 MB/s\u001b[0m eta \u001b[36m0:00:00\u001b[0m\u001b[36m0:00:01\u001b[0m\n",
      "\u001b[?25hDownloading pyasn1-0.5.1-py2.py3-none-any.whl (84 kB)\n",
      "\u001b[2K   \u001b[38;2;114;156;31m━━━━━━━━━━━━━━━━━━━━━━━━━━━━━━━━━━━━━━━━\u001b[0m \u001b[32m84.9/84.9 kB\u001b[0m \u001b[31m2.4 MB/s\u001b[0m eta \u001b[36m0:00:00\u001b[0m\n",
      "\u001b[?25hInstalling collected packages: uritemplate, pyasn1, protobuf, oauthlib, httplib2, cachetools, rsa, requests-oauthlib, pyasn1-modules, googleapis-common-protos, google-auth, google-auth-oauthlib, google-auth-httplib2, google-api-core, google-api-python-client\n",
      "Successfully installed cachetools-5.3.2 google-api-core-2.15.0 google-api-python-client-2.115.0 google-auth-2.26.2 google-auth-httplib2-0.2.0 google-auth-oauthlib-1.2.0 googleapis-common-protos-1.62.0 httplib2-0.22.0 oauthlib-3.2.2 protobuf-4.25.2 pyasn1-0.5.1 pyasn1-modules-0.3.0 requests-oauthlib-1.3.1 rsa-4.9 uritemplate-4.1.1\n",
      "\n",
      "\u001b[1m[\u001b[0m\u001b[34;49mnotice\u001b[0m\u001b[1;39;49m]\u001b[0m\u001b[39;49m A new release of pip is available: \u001b[0m\u001b[31;49m23.3.1\u001b[0m\u001b[39;49m -> \u001b[0m\u001b[32;49m23.3.2\u001b[0m\n",
      "\u001b[1m[\u001b[0m\u001b[34;49mnotice\u001b[0m\u001b[1;39;49m]\u001b[0m\u001b[39;49m To update, run: \u001b[0m\u001b[32;49mpython3.11 -m pip install --upgrade pip\u001b[0m\n"
     ]
    }
   ],
   "source": [
    "!pip install --upgrade google-api-python-client google-auth-httplib2 google-auth-oauthlib"
   ]
  },
  {
   "cell_type": "markdown",
   "id": "378a78b3-fb0d-404d-b63a-2d0cb50002b5",
   "metadata": {},
   "source": [
    "## Setup Google Service"
   ]
  },
  {
   "cell_type": "code",
   "execution_count": 19,
   "id": "98689842-f323-4729-a71a-79f8392dfab5",
   "metadata": {},
   "outputs": [],
   "source": [
    "from Google import Create_Service"
   ]
  },
  {
   "cell_type": "code",
   "execution_count": 20,
   "id": "9a541ede-597b-492e-9618-0f6b8c7929da",
   "metadata": {},
   "outputs": [],
   "source": [
    "CLIENT_SECRET_FILE = \"data/client_secret_calendar.json\"\n",
    "APP_NAME = \"calendar\"\n",
    "APP_VERSION = \"v3\"\n",
    "SCOPES = [\n",
    "    \"https://www.googleapis.com/auth/calendar\"\n",
    "]\n"
   ]
  },
  {
   "cell_type": "code",
   "execution_count": 33,
   "id": "fa4600dc-6716-44c3-8a88-d1dff0277891",
   "metadata": {},
   "outputs": [
    {
     "name": "stdout",
     "output_type": "stream",
     "text": [
      "data/client_secret_calendar.json-calendar-v3-(['https://www.googleapis.com/auth/calendar'],)\n",
      "['https://www.googleapis.com/auth/calendar']\n",
      "calendar service created successfully\n"
     ]
    }
   ],
   "source": [
    "service = Create_Service(CLIENT_SECRET_FILE, APP_NAME, APP_VERSION, SCOPES)"
   ]
  },
  {
   "cell_type": "markdown",
   "id": "59a9a399-058e-4f77-a8ea-97a74c9723aa",
   "metadata": {},
   "source": [
    "## Check Calendar API"
   ]
  },
  {
   "cell_type": "code",
   "execution_count": 37,
   "id": "8416363f-6319-4cc2-975c-0764007bcdb7",
   "metadata": {},
   "outputs": [
    {
     "data": {
      "text/plain": [
       "{'kind': 'calendar#calendarList',\n",
       " 'etag': '\"p32ca7em7pvs860o\"',\n",
       " 'nextSyncToken': 'CJijusfP-IMDEhNsdmppYW43MDBAZ21haWwuY29t',\n",
       " 'items': [{'kind': 'calendar#calendarListEntry',\n",
       "   'etag': '\"1628642780604000\"',\n",
       "   'id': 'v2lq2bfkhsaeo3j4343n060n44q5nl2v@import.calendar.google.com',\n",
       "   'summary': 'Compass - Student/Parent Events and Activities',\n",
       "   'description': ' Compass Calendar Layer',\n",
       "   'timeZone': 'Australia/Melbourne',\n",
       "   'colorId': '22',\n",
       "   'backgroundColor': '#f691b2',\n",
       "   'foregroundColor': '#000000',\n",
       "   'selected': True,\n",
       "   'accessRole': 'reader',\n",
       "   'defaultReminders': [],\n",
       "   'conferenceProperties': {'allowedConferenceSolutionTypes': ['hangoutsMeet']}},\n",
       "  {'kind': 'calendar#calendarListEntry',\n",
       "   'etag': '\"1628642780604000\"',\n",
       "   'id': 'lvjian700@gmail.com',\n",
       "   'summary': 'Jian Lv',\n",
       "   'timeZone': 'Australia/Melbourne',\n",
       "   'colorId': '3',\n",
       "   'backgroundColor': '#a32929',\n",
       "   'foregroundColor': '#ffffff',\n",
       "   'selected': True,\n",
       "   'accessRole': 'owner',\n",
       "   'defaultReminders': [{'method': 'popup', 'minutes': 30}],\n",
       "   'notificationSettings': {'notifications': [{'type': 'eventCreation',\n",
       "      'method': 'email'},\n",
       "     {'type': 'eventChange', 'method': 'email'},\n",
       "     {'type': 'eventCancellation', 'method': 'email'}]},\n",
       "   'primary': True,\n",
       "   'conferenceProperties': {'allowedConferenceSolutionTypes': ['hangoutsMeet']}},\n",
       "  {'kind': 'calendar#calendarListEntry',\n",
       "   'etag': '\"1628642780604000\"',\n",
       "   'id': 'addressbook#contacts@group.v.calendar.google.com',\n",
       "   'summary': 'Birthdays',\n",
       "   'description': 'Displays birthdays, anniversaries and other event dates of people in Google Contacts.',\n",
       "   'timeZone': 'Australia/Melbourne',\n",
       "   'colorId': '13',\n",
       "   'backgroundColor': '#92e1c0',\n",
       "   'foregroundColor': '#000000',\n",
       "   'selected': True,\n",
       "   'accessRole': 'reader',\n",
       "   'defaultReminders': [],\n",
       "   'conferenceProperties': {'allowedConferenceSolutionTypes': ['hangoutsMeet']}},\n",
       "  {'kind': 'calendar#calendarListEntry',\n",
       "   'etag': '\"1628642780604000\"',\n",
       "   'id': 'zh-cn.china#holiday@group.v.calendar.google.com',\n",
       "   'summary': '中国节假日',\n",
       "   'description': '中国节假日',\n",
       "   'timeZone': 'Australia/Melbourne',\n",
       "   'colorId': '8',\n",
       "   'backgroundColor': '#16a765',\n",
       "   'foregroundColor': '#000000',\n",
       "   'selected': True,\n",
       "   'accessRole': 'reader',\n",
       "   'defaultReminders': [],\n",
       "   'conferenceProperties': {'allowedConferenceSolutionTypes': ['hangoutsMeet']}},\n",
       "  {'kind': 'calendar#calendarListEntry',\n",
       "   'etag': '\"1635335226767000\"',\n",
       "   'id': 'family06383250805262491328@group.calendar.google.com',\n",
       "   'summary': 'Family',\n",
       "   'timeZone': 'UTC',\n",
       "   'colorId': '21',\n",
       "   'backgroundColor': '#cca6ac',\n",
       "   'foregroundColor': '#000000',\n",
       "   'selected': True,\n",
       "   'accessRole': 'writer',\n",
       "   'defaultReminders': [{'method': 'popup', 'minutes': 30}],\n",
       "   'conferenceProperties': {'allowedConferenceSolutionTypes': ['hangoutsMeet']}},\n",
       "  {'kind': 'calendar#calendarListEntry',\n",
       "   'etag': '\"1675669022103000\"',\n",
       "   'id': 'q0ui92udqita399q0v7s291t1tv3lhrf@import.calendar.google.com',\n",
       "   'summary': 'Compass - Community engagement',\n",
       "   'description': ' Compass Calendar Layer',\n",
       "   'timeZone': 'Australia/Melbourne',\n",
       "   'colorId': '16',\n",
       "   'backgroundColor': '#4986e7',\n",
       "   'foregroundColor': '#000000',\n",
       "   'selected': True,\n",
       "   'accessRole': 'reader',\n",
       "   'defaultReminders': [],\n",
       "   'conferenceProperties': {'allowedConferenceSolutionTypes': ['hangoutsMeet']}}]}"
      ]
     },
     "execution_count": 37,
     "metadata": {},
     "output_type": "execute_result"
    }
   ],
   "source": [
    "response = service.calendarList().list().execute()\n",
    "response"
   ]
  },
  {
   "cell_type": "code",
   "execution_count": 23,
   "id": "8db337cd-751f-47da-8f4d-220156421fd4",
   "metadata": {},
   "outputs": [],
   "source": [
    "calendar_id = \"lvjian700@gmail.com\""
   ]
  },
  {
   "cell_type": "code",
   "execution_count": 60,
   "id": "bf606175-57cd-4d1d-bd6e-e10f44c8b5b7",
   "metadata": {},
   "outputs": [
    {
     "name": "stdout",
     "output_type": "stream",
     "text": [
      "2024-01-26T00:00:00Z ~ 2024-01-26T23:59:59.999999Z\n"
     ]
    }
   ],
   "source": [
    "from datetime import datetime, timedelta\n",
    "\n",
    "now = datetime.utcnow()\n",
    "start_of_day = now.replace(hour=0, minute=0, second=0, microsecond=0)\n",
    "end_of_day = now.replace(hour=23, minute=59, second=59, microsecond=999999)\n",
    "\n",
    "# 'Z' indicates UTC time\n",
    "time_min = start_of_day.isoformat() + 'Z'\n",
    "#time_max = (datetime.utcnow() - timedelta(days=2)).isoformat() + 'Z'\n",
    "time_max = end_of_day.isoformat() + 'Z'\n",
    "\n",
    "print(f\"{time_min} ~ {time_max}\")"
   ]
  },
  {
   "cell_type": "code",
   "execution_count": 80,
   "id": "9fffab0c-fae1-42c9-900a-4a67b0af096d",
   "metadata": {},
   "outputs": [
    {
     "name": "stdout",
     "output_type": "stream",
     "text": [
      "{'kind': 'calendar#events', 'etag': '\"p32s873fvijt860o\"', 'summary': 'Jian Lv', 'description': '', 'updated': '2024-01-26T03:58:43.139Z', 'timeZone': 'Australia/Melbourne', 'accessRole': 'owner', 'defaultReminders': [{'method': 'popup', 'minutes': 30}], 'items': [{'kind': 'calendar#event', 'etag': '\"3412482775868000\"', 'id': '738crk7r3ocit6s1uiqdnlqmmd', 'status': 'confirmed', 'htmlLink': 'https://www.google.com/calendar/event?eid=NzM4Y3JrN3Izb2NpdDZzMXVpcWRubHFtbWQgbHZqaWFuNzAwQG0', 'created': '2024-01-26T03:56:27.000Z', 'updated': '2024-01-26T03:56:27.934Z', 'summary': 'New event', 'creator': {'email': 'lvjian700@gmail.com', 'self': True}, 'organizer': {'email': 'lvjian700@gmail.com', 'self': True}, 'start': {'dateTime': '2024-01-26T15:00:00+11:00', 'timeZone': 'Australia/Melbourne'}, 'end': {'dateTime': '2024-01-26T16:00:00+11:00', 'timeZone': 'Australia/Melbourne'}, 'iCalUID': '738crk7r3ocit6s1uiqdnlqmmd@google.com', 'sequence': 0, 'reminders': {'useDefault': True}, 'eventType': 'default'}, {'kind': 'calendar#event', 'etag': '\"3412483046278000\"', 'id': '7l52np6gaet9d8k71nupp2jdqu', 'status': 'confirmed', 'htmlLink': 'https://www.google.com/calendar/event?eid=N2w1Mm5wNmdhZXQ5ZDhrNzFudXBwMmpkcXUgbHZqaWFuNzAwQG0', 'created': '2024-01-26T03:58:43.000Z', 'updated': '2024-01-26T03:58:43.139Z', 'summary': 'Play time', 'creator': {'email': 'lvjian700@gmail.com', 'self': True}, 'organizer': {'email': 'lvjian700@gmail.com', 'self': True}, 'start': {'dateTime': '2024-01-26T16:00:00+11:00', 'timeZone': 'Australia/Melbourne'}, 'end': {'dateTime': '2024-01-26T17:00:00+11:00', 'timeZone': 'Australia/Melbourne'}, 'iCalUID': '7l52np6gaet9d8k71nupp2jdqu@google.com', 'sequence': 0, 'reminders': {'useDefault': True}, 'eventType': 'default'}]}\n"
     ]
    }
   ],
   "source": [
    "events_result = service.events().list(calendarId=calendar_id,\n",
    "                                      timeMin=time_min,\n",
    "                                      timeMax=time_max,\n",
    "                                      singleEvents=True,\n",
    "                                      orderBy='startTime').execute()\n",
    "# print(events_result)\n",
    "events = events_result.get('items', [])"
   ]
  },
  {
   "cell_type": "code",
   "execution_count": 81,
   "id": "56504b8b-f62a-4df4-98d4-e7fcd49a3705",
   "metadata": {},
   "outputs": [
    {
     "data": {
      "text/plain": [
       "[{'kind': 'calendar#event',\n",
       "  'etag': '\"3412482775868000\"',\n",
       "  'id': '738crk7r3ocit6s1uiqdnlqmmd',\n",
       "  'status': 'confirmed',\n",
       "  'htmlLink': 'https://www.google.com/calendar/event?eid=NzM4Y3JrN3Izb2NpdDZzMXVpcWRubHFtbWQgbHZqaWFuNzAwQG0',\n",
       "  'created': '2024-01-26T03:56:27.000Z',\n",
       "  'updated': '2024-01-26T03:56:27.934Z',\n",
       "  'summary': 'New event',\n",
       "  'creator': {'email': 'lvjian700@gmail.com', 'self': True},\n",
       "  'organizer': {'email': 'lvjian700@gmail.com', 'self': True},\n",
       "  'start': {'dateTime': '2024-01-26T15:00:00+11:00',\n",
       "   'timeZone': 'Australia/Melbourne'},\n",
       "  'end': {'dateTime': '2024-01-26T16:00:00+11:00',\n",
       "   'timeZone': 'Australia/Melbourne'},\n",
       "  'iCalUID': '738crk7r3ocit6s1uiqdnlqmmd@google.com',\n",
       "  'sequence': 0,\n",
       "  'reminders': {'useDefault': True},\n",
       "  'eventType': 'default'},\n",
       " {'kind': 'calendar#event',\n",
       "  'etag': '\"3412483046278000\"',\n",
       "  'id': '7l52np6gaet9d8k71nupp2jdqu',\n",
       "  'status': 'confirmed',\n",
       "  'htmlLink': 'https://www.google.com/calendar/event?eid=N2w1Mm5wNmdhZXQ5ZDhrNzFudXBwMmpkcXUgbHZqaWFuNzAwQG0',\n",
       "  'created': '2024-01-26T03:58:43.000Z',\n",
       "  'updated': '2024-01-26T03:58:43.139Z',\n",
       "  'summary': 'Play time',\n",
       "  'creator': {'email': 'lvjian700@gmail.com', 'self': True},\n",
       "  'organizer': {'email': 'lvjian700@gmail.com', 'self': True},\n",
       "  'start': {'dateTime': '2024-01-26T16:00:00+11:00',\n",
       "   'timeZone': 'Australia/Melbourne'},\n",
       "  'end': {'dateTime': '2024-01-26T17:00:00+11:00',\n",
       "   'timeZone': 'Australia/Melbourne'},\n",
       "  'iCalUID': '7l52np6gaet9d8k71nupp2jdqu@google.com',\n",
       "  'sequence': 0,\n",
       "  'reminders': {'useDefault': True},\n",
       "  'eventType': 'default'}]"
      ]
     },
     "execution_count": 81,
     "metadata": {},
     "output_type": "execute_result"
    }
   ],
   "source": [
    "events"
   ]
  },
  {
   "cell_type": "markdown",
   "id": "1a37e159-d165-4215-b079-6182eb740375",
   "metadata": {},
   "source": [
    "## Extract method for getting events"
   ]
  },
  {
   "cell_type": "code",
   "execution_count": 98,
   "id": "2a56eaac-56bc-4e9c-b4e4-727d50c0560f",
   "metadata": {},
   "outputs": [],
   "source": [
    "from datetime import datetime, timedelta\n",
    "\n",
    "def get_time_range(period):\n",
    "    now = datetime.utcnow()\n",
    "    if period == 'today':\n",
    "        start_of_day = now.replace(hour=0, minute=0, second=0, microsecond=0)\n",
    "        end_of_day = now.replace(hour=23, minute=59, second=59, microsecond=999999)\n",
    "        return start_of_day, end_of_day\n",
    "    elif period == 'week':\n",
    "        start_of_week = now - timedelta(days=now.weekday())  # Monday\n",
    "        end_of_week = start_of_week + timedelta(days=6)  # Sunday\n",
    "        return start_of_week, end_of_week\n",
    "    else:\n",
    "        raise ValueError(\"Period must be 'today' or 'week'\")"
   ]
  },
  {
   "cell_type": "code",
   "execution_count": 99,
   "id": "c50e3f11-9c5c-4976-b43b-122f8cb77b24",
   "metadata": {},
   "outputs": [
    {
     "name": "stdout",
     "output_type": "stream",
     "text": [
      "(datetime.datetime(2024, 1, 26, 0, 0), datetime.datetime(2024, 1, 26, 23, 59, 59, 999999))\n"
     ]
    }
   ],
   "source": [
    "print(F\"{get_time_range('today')}\")"
   ]
  },
  {
   "cell_type": "code",
   "execution_count": 100,
   "id": "6f430632-babe-4c44-a4f3-cba7cc412f2c",
   "metadata": {},
   "outputs": [
    {
     "name": "stdout",
     "output_type": "stream",
     "text": [
      "(datetime.datetime(2024, 1, 22, 11, 32, 26, 381428), datetime.datetime(2024, 1, 28, 11, 32, 26, 381428))\n"
     ]
    }
   ],
   "source": [
    "print(F\"{get_time_range('week')}\")"
   ]
  },
  {
   "cell_type": "code",
   "execution_count": 93,
   "id": "cc35f3b1-59c1-4362-ab1b-70d4669a3555",
   "metadata": {},
   "outputs": [],
   "source": [
    "from datetime import datetime, timedelta\n",
    "\n",
    "def time_to_iso_str(date_time):\n",
    "    return date_time.isoformat() + 'Z'\n",
    "\n",
    "def get_events(service, time_range):\n",
    "    # Set time range based on the period\n",
    "    time_min = time_to_iso_str(time_range[0])\n",
    "    time_max = time_to_iso_str(time_range[1])\n",
    "\n",
    "    # Fetch the events\n",
    "    events_result = service.events().list(calendarId='primary',\n",
    "                                          timeMin=time_min,\n",
    "                                          timeMax=time_max,\n",
    "                                          singleEvents=True,\n",
    "                                          orderBy='startTime').execute()\n",
    "    return events_result.get('items', [])"
   ]
  },
  {
   "cell_type": "code",
   "execution_count": 97,
   "id": "cb2f3060-46b7-40bb-9ebf-b8304e38ce10",
   "metadata": {},
   "outputs": [
    {
     "name": "stdout",
     "output_type": "stream",
     "text": [
      "Today's Events:\n",
      "start at: 2024-01-26T15:00:00+11:00 end at: 2024-01-26T16:00:00+11:00 New event\n",
      "start at: 2024-01-26T16:00:00+11:00 end at: 2024-01-26T17:00:00+11:00 Play time\n"
     ]
    }
   ],
   "source": [
    "# Usage example (assuming 'service' is already initialized):\n",
    "events_today = get_events(service, get_time_range('today'))\n",
    "events_this_week = get_events(service, get_time_range('week'))\n",
    "\n",
    "#print(events_today)\n",
    "# Print the results\n",
    "print(\"Today's Events:\")\n",
    "for event in events_today:\n",
    "    start = event['start'].get('dateTime', event['start'].get('date'))\n",
    "    end = event['end'].get('dateTime', event['end'].get('date'))\n",
    "    print('start at:', start, 'end at:', end, event['summary'])"
   ]
  },
  {
   "cell_type": "code",
   "execution_count": null,
   "id": "54af0e38-c3b9-491c-a817-4bc69b750690",
   "metadata": {},
   "outputs": [],
   "source": []
  },
  {
   "cell_type": "markdown",
   "id": "8e60009f-d90c-4b3b-bc05-052d57c3bded",
   "metadata": {},
   "source": [
    "## Insert Event"
   ]
  },
  {
   "cell_type": "code",
   "execution_count": 40,
   "id": "cd3cab1a-2bc6-499e-b186-f565efe23d23",
   "metadata": {},
   "outputs": [
    {
     "name": "stdout",
     "output_type": "stream",
     "text": [
      "2024-01-25T13:16:06.084810Z ~ 2024-01-25T13:31:06.084866Z \n"
     ]
    }
   ],
   "source": [
    "start_time = datetime.utcnow().isoformat() + 'Z'\n",
    "end_time = (datetime.utcnow() + timedelta(minutes=15)).isoformat() + 'Z'\n",
    "print(f\"{start_time} ~ {end_time} \")"
   ]
  },
  {
   "cell_type": "code",
   "execution_count": 41,
   "id": "892d137f-ac7e-42c8-b31f-495b4d117116",
   "metadata": {},
   "outputs": [],
   "source": [
    "event = {\n",
    "  'summary': 'Google I/O 2023 2',\n",
    "  'start': {\n",
    "    'dateTime': start_time\n",
    "  },\n",
    "  'end': {\n",
    "    'dateTime': end_time,\n",
    "  },\n",
    "}"
   ]
  },
  {
   "cell_type": "code",
   "execution_count": 42,
   "id": "80d5cd75-2996-4c62-9dd7-22264f06f87a",
   "metadata": {},
   "outputs": [
    {
     "name": "stdout",
     "output_type": "stream",
     "text": [
      "Event created: https://www.google.com/calendar/event?eid=MTNqZ3RwYXIzODQxZnUycWM5anQ4YW85bnMgbHZqaWFuNzAwQG0\n"
     ]
    },
    {
     "data": {
      "text/plain": [
       "{'kind': 'calendar#event',\n",
       " 'etag': '\"3412377143468000\"',\n",
       " 'id': '13jgtpar3841fu2qc9jt8ao9ns',\n",
       " 'status': 'confirmed',\n",
       " 'htmlLink': 'https://www.google.com/calendar/event?eid=MTNqZ3RwYXIzODQxZnUycWM5anQ4YW85bnMgbHZqaWFuNzAwQG0',\n",
       " 'created': '2024-01-25T13:16:11.000Z',\n",
       " 'updated': '2024-01-25T13:16:11.734Z',\n",
       " 'summary': 'Google I/O 2023 2',\n",
       " 'creator': {'email': 'lvjian700@gmail.com', 'self': True},\n",
       " 'organizer': {'email': 'lvjian700@gmail.com', 'self': True},\n",
       " 'start': {'dateTime': '2024-01-26T00:16:06+11:00',\n",
       "  'timeZone': 'Australia/Melbourne'},\n",
       " 'end': {'dateTime': '2024-01-26T00:31:06+11:00',\n",
       "  'timeZone': 'Australia/Melbourne'},\n",
       " 'iCalUID': '13jgtpar3841fu2qc9jt8ao9ns@google.com',\n",
       " 'sequence': 0,\n",
       " 'reminders': {'useDefault': True},\n",
       " 'eventType': 'default'}"
      ]
     },
     "execution_count": 42,
     "metadata": {},
     "output_type": "execute_result"
    }
   ],
   "source": [
    "event = service.events().insert(calendarId=calendar_id, body=event).execute()\n",
    "print('Event created: %s' % (event.get('htmlLink')))\n",
    "event"
   ]
  },
  {
   "cell_type": "code",
   "execution_count": null,
   "id": "c6198e20-9632-49fb-9c5f-f73336a3c729",
   "metadata": {},
   "outputs": [],
   "source": [
    "\n"
   ]
  },
  {
   "cell_type": "code",
   "execution_count": null,
   "id": "730729ca-4fd4-44cd-82d5-2f96b6e881e7",
   "metadata": {},
   "outputs": [],
   "source": []
  },
  {
   "cell_type": "code",
   "execution_count": null,
   "id": "9f5b8d2d-ac56-4aa9-8c3a-aeffcb7e25fc",
   "metadata": {},
   "outputs": [],
   "source": []
  }
 ],
 "metadata": {
  "kernelspec": {
   "display_name": "Python (Global)",
   "language": "python",
   "name": "global-python"
  },
  "language_info": {
   "codemirror_mode": {
    "name": "ipython",
    "version": 3
   },
   "file_extension": ".py",
   "mimetype": "text/x-python",
   "name": "python",
   "nbconvert_exporter": "python",
   "pygments_lexer": "ipython3",
   "version": "3.11.7"
  }
 },
 "nbformat": 4,
 "nbformat_minor": 5
}

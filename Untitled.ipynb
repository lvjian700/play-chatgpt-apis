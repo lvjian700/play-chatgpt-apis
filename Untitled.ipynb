{
 "cells": [
  {
   "cell_type": "code",
   "execution_count": 5,
   "id": "2d087dc2-1ae1-4697-bb91-e1359d5b368d",
   "metadata": {},
   "outputs": [
    {
     "name": "stdin",
     "output_type": "stream",
     "text": [
      "您好，欢迎来到古灵阁，请问您需要帮助吗？需要or不需要？ 需要\n",
      "请问您需要什么帮助呢？1 存取款；2 货币兑换；3 咨询 2\n"
     ]
    },
    {
     "name": "stdout",
     "output_type": "stream",
     "text": [
      "2\n",
      "金加隆和人民币的兑换率为1:51.3，即一金加隆=51.3人民币\n"
     ]
    },
    {
     "name": "stdin",
     "output_type": "stream",
     "text": [
      "请问您需要兑换多少金加隆呢？ 6.6\n"
     ]
    },
    {
     "name": "stdout",
     "output_type": "stream",
     "text": [
      "好的，我知道了，您需要兑换6.6金加隆。\n",
      "那么，您需要付给我338.58人民币。\n"
     ]
    }
   ],
   "source": [
    "question1=input('您好，欢迎来到古灵阁，请问您需要帮助吗？需要or不需要？')\n",
    "\n",
    "\n",
    "if question1=='需要':\n",
    "    qeustion2=input('请问您需要什么帮助呢？1 存取款；2 货币兑换；3 咨询')\n",
    "    print(qeustion2)\n",
    "    if qeustion2=='1':\n",
    "        print('推荐你去存取款窗口')\n",
    "    elif qeustion2=='2':\n",
    "        print('金加隆和人民币的兑换率为1:51.3，即一金加隆=51.3人民币')\n",
    "        number=input('请问您需要兑换多少金加隆呢？')\n",
    "        \n",
    "\n",
    "        print('好的，我知道了，您需要兑换'+number+'金加隆。')\n",
    "        money=float(number)*51.3\n",
    "        print('那么，您需要付给我'+str(money)+'人民币。')\n",
    "    else:\n",
    "        print('小精灵会推荐你去咨询窗口。')\n",
    "        \n",
    "else:\n",
    "    print('好的，再见。')\n"
   ]
  },
  {
   "cell_type": "code",
   "execution_count": 7,
   "id": "e7520a31-1e80-440d-b7e1-ec171288d8c0",
   "metadata": {},
   "outputs": [
    {
     "name": "stdin",
     "output_type": "stream",
     "text": [
      "您好，欢迎来到古灵阁，请问您需要帮助吗？需要or不需要？ 需要\n"
     ]
    }
   ],
   "source": [
    "question1=input('您好，欢迎来到古灵阁，请问您需要帮助吗？需要or不需要？')"
   ]
  },
  {
   "cell_type": "code",
   "execution_count": 13,
   "id": "7fddd27c-f6cf-44b3-8700-b0cc50660ed0",
   "metadata": {},
   "outputs": [],
   "source": [
    "def ask_q2():\n",
    "    input('您好，欢迎来到古灵阁，请问您需要帮助吗？需要or不需要？')"
   ]
  },
  {
   "cell_type": "code",
   "execution_count": null,
   "id": "d9732b94-91df-405c-8cbb-8ea4afe6fedb",
   "metadata": {},
   "outputs": [],
   "source": [
    "question1=ask_q2()"
   ]
  },
  {
   "cell_type": "code",
   "execution_count": 11,
   "id": "c515f929-b5ca-4045-93c1-fa0401f421be",
   "metadata": {},
   "outputs": [
    {
     "data": {
      "text/plain": [
       "'A2'"
      ]
     },
     "execution_count": 11,
     "metadata": {},
     "output_type": "execute_result"
    }
   ],
   "source": [
    "question2"
   ]
  },
  {
   "cell_type": "code",
   "execution_count": null,
   "id": "bb65216d-e9fa-4ec9-8073-88a489e7c1f7",
   "metadata": {},
   "outputs": [],
   "source": []
  }
 ],
 "metadata": {
  "kernelspec": {
   "display_name": "Python (Global)",
   "language": "python",
   "name": "global-python"
  },
  "language_info": {
   "codemirror_mode": {
    "name": "ipython",
    "version": 3
   },
   "file_extension": ".py",
   "mimetype": "text/x-python",
   "name": "python",
   "nbconvert_exporter": "python",
   "pygments_lexer": "ipython3",
   "version": "3.11.7"
  }
 },
 "nbformat": 4,
 "nbformat_minor": 5
}

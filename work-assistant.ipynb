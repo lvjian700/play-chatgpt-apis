{
 "cells": [
  {
   "cell_type": "code",
   "execution_count": 1,
   "id": "94b36d64-7ebc-4c41-a85a-d1eeadb64527",
   "metadata": {},
   "outputs": [],
   "source": [
    "%load_ext autoreload\n",
    "%autoreload 2"
   ]
  },
  {
   "cell_type": "code",
   "execution_count": 2,
   "id": "ef1e8a7c-1a07-4e49-a677-2ef147238d14",
   "metadata": {
    "scrolled": true
   },
   "outputs": [
    {
     "name": "stdout",
     "output_type": "stream",
     "text": [
      "Requirement already satisfied: google-api-python-client in /usr/local/lib/python3.11/site-packages (2.115.0)\n",
      "Requirement already satisfied: google-auth-httplib2 in /usr/local/lib/python3.11/site-packages (0.2.0)\n",
      "Requirement already satisfied: google-auth-oauthlib in /usr/local/lib/python3.11/site-packages (1.2.0)\n",
      "Requirement already satisfied: httplib2<1.dev0,>=0.15.0 in /usr/local/lib/python3.11/site-packages (from google-api-python-client) (0.22.0)\n",
      "Requirement already satisfied: google-auth<3.0.0.dev0,>=1.19.0 in /usr/local/lib/python3.11/site-packages (from google-api-python-client) (2.26.2)\n",
      "Requirement already satisfied: google-api-core!=2.0.*,!=2.1.*,!=2.2.*,!=2.3.0,<3.0.0.dev0,>=1.31.5 in /usr/local/lib/python3.11/site-packages (from google-api-python-client) (2.15.0)\n",
      "Requirement already satisfied: uritemplate<5,>=3.0.1 in /usr/local/lib/python3.11/site-packages (from google-api-python-client) (4.1.1)\n",
      "Requirement already satisfied: requests-oauthlib>=0.7.0 in /usr/local/lib/python3.11/site-packages (from google-auth-oauthlib) (1.3.1)\n",
      "Requirement already satisfied: googleapis-common-protos<2.0.dev0,>=1.56.2 in /usr/local/lib/python3.11/site-packages (from google-api-core!=2.0.*,!=2.1.*,!=2.2.*,!=2.3.0,<3.0.0.dev0,>=1.31.5->google-api-python-client) (1.62.0)\n",
      "Requirement already satisfied: protobuf!=3.20.0,!=3.20.1,!=4.21.0,!=4.21.1,!=4.21.2,!=4.21.3,!=4.21.4,!=4.21.5,<5.0.0.dev0,>=3.19.5 in /usr/local/lib/python3.11/site-packages (from google-api-core!=2.0.*,!=2.1.*,!=2.2.*,!=2.3.0,<3.0.0.dev0,>=1.31.5->google-api-python-client) (4.25.2)\n",
      "Requirement already satisfied: requests<3.0.0.dev0,>=2.18.0 in /usr/local/lib/python3.11/site-packages (from google-api-core!=2.0.*,!=2.1.*,!=2.2.*,!=2.3.0,<3.0.0.dev0,>=1.31.5->google-api-python-client) (2.31.0)\n",
      "Requirement already satisfied: cachetools<6.0,>=2.0.0 in /usr/local/lib/python3.11/site-packages (from google-auth<3.0.0.dev0,>=1.19.0->google-api-python-client) (5.3.2)\n",
      "Requirement already satisfied: pyasn1-modules>=0.2.1 in /usr/local/lib/python3.11/site-packages (from google-auth<3.0.0.dev0,>=1.19.0->google-api-python-client) (0.3.0)\n",
      "Requirement already satisfied: rsa<5,>=3.1.4 in /usr/local/lib/python3.11/site-packages (from google-auth<3.0.0.dev0,>=1.19.0->google-api-python-client) (4.9)\n",
      "Requirement already satisfied: pyparsing!=3.0.0,!=3.0.1,!=3.0.2,!=3.0.3,<4,>=2.4.2 in /usr/local/lib/python3.11/site-packages (from httplib2<1.dev0,>=0.15.0->google-api-python-client) (3.0.9)\n",
      "Requirement already satisfied: oauthlib>=3.0.0 in /usr/local/lib/python3.11/site-packages (from requests-oauthlib>=0.7.0->google-auth-oauthlib) (3.2.2)\n",
      "Requirement already satisfied: pyasn1<0.6.0,>=0.4.6 in /usr/local/lib/python3.11/site-packages (from pyasn1-modules>=0.2.1->google-auth<3.0.0.dev0,>=1.19.0->google-api-python-client) (0.5.1)\n",
      "Requirement already satisfied: charset-normalizer<4,>=2 in /usr/local/lib/python3.11/site-packages (from requests<3.0.0.dev0,>=2.18.0->google-api-core!=2.0.*,!=2.1.*,!=2.2.*,!=2.3.0,<3.0.0.dev0,>=1.31.5->google-api-python-client) (3.2.0)\n",
      "Requirement already satisfied: idna<4,>=2.5 in /usr/local/lib/python3.11/site-packages (from requests<3.0.0.dev0,>=2.18.0->google-api-core!=2.0.*,!=2.1.*,!=2.2.*,!=2.3.0,<3.0.0.dev0,>=1.31.5->google-api-python-client) (3.4)\n",
      "Requirement already satisfied: urllib3<3,>=1.21.1 in /usr/local/lib/python3.11/site-packages (from requests<3.0.0.dev0,>=2.18.0->google-api-core!=2.0.*,!=2.1.*,!=2.2.*,!=2.3.0,<3.0.0.dev0,>=1.31.5->google-api-python-client) (2.0.3)\n",
      "Requirement already satisfied: certifi>=2017.4.17 in /usr/local/lib/python3.11/site-packages (from requests<3.0.0.dev0,>=2.18.0->google-api-core!=2.0.*,!=2.1.*,!=2.2.*,!=2.3.0,<3.0.0.dev0,>=1.31.5->google-api-python-client) (2023.5.7)\n",
      "\n",
      "\u001b[1m[\u001b[0m\u001b[34;49mnotice\u001b[0m\u001b[1;39;49m]\u001b[0m\u001b[39;49m A new release of pip is available: \u001b[0m\u001b[31;49m23.3.1\u001b[0m\u001b[39;49m -> \u001b[0m\u001b[32;49m23.3.2\u001b[0m\n",
      "\u001b[1m[\u001b[0m\u001b[34;49mnotice\u001b[0m\u001b[1;39;49m]\u001b[0m\u001b[39;49m To update, run: \u001b[0m\u001b[32;49mpython3.11 -m pip install --upgrade pip\u001b[0m\n"
     ]
    }
   ],
   "source": [
    "!pip install --upgrade google-api-python-client google-auth-httplib2 google-auth-oauthlib;"
   ]
  },
  {
   "cell_type": "code",
   "execution_count": 3,
   "id": "2199e30a-3337-4283-9ae1-4ba0c7b7689e",
   "metadata": {
    "scrolled": true
   },
   "outputs": [
    {
     "name": "stdout",
     "output_type": "stream",
     "text": [
      "Requirement already satisfied: openai in /usr/local/lib/python3.11/site-packages (1.8.0)\n",
      "Requirement already satisfied: anyio<5,>=3.5.0 in /usr/local/lib/python3.11/site-packages (from openai) (3.6.2)\n",
      "Requirement already satisfied: distro<2,>=1.7.0 in /usr/local/lib/python3.11/site-packages (from openai) (1.9.0)\n",
      "Requirement already satisfied: httpx<1,>=0.23.0 in /usr/local/lib/python3.11/site-packages (from openai) (0.26.0)\n",
      "Requirement already satisfied: pydantic<3,>=1.9.0 in /usr/local/lib/python3.11/site-packages (from openai) (2.5.3)\n",
      "Requirement already satisfied: sniffio in /usr/local/lib/python3.11/site-packages (from openai) (1.3.0)\n",
      "Requirement already satisfied: tqdm>4 in /usr/local/lib/python3.11/site-packages (from openai) (4.65.0)\n",
      "Requirement already satisfied: typing-extensions<5,>=4.7 in /usr/local/lib/python3.11/site-packages (from openai) (4.9.0)\n",
      "Requirement already satisfied: idna>=2.8 in /usr/local/lib/python3.11/site-packages (from anyio<5,>=3.5.0->openai) (3.4)\n",
      "Requirement already satisfied: certifi in /usr/local/lib/python3.11/site-packages (from httpx<1,>=0.23.0->openai) (2023.5.7)\n",
      "Requirement already satisfied: httpcore==1.* in /usr/local/lib/python3.11/site-packages (from httpx<1,>=0.23.0->openai) (1.0.2)\n",
      "Requirement already satisfied: h11<0.15,>=0.13 in /usr/local/lib/python3.11/site-packages (from httpcore==1.*->httpx<1,>=0.23.0->openai) (0.14.0)\n",
      "Requirement already satisfied: annotated-types>=0.4.0 in /usr/local/lib/python3.11/site-packages (from pydantic<3,>=1.9.0->openai) (0.6.0)\n",
      "Requirement already satisfied: pydantic-core==2.14.6 in /usr/local/lib/python3.11/site-packages (from pydantic<3,>=1.9.0->openai) (2.14.6)\n",
      "\n",
      "\u001b[1m[\u001b[0m\u001b[34;49mnotice\u001b[0m\u001b[1;39;49m]\u001b[0m\u001b[39;49m A new release of pip is available: \u001b[0m\u001b[31;49m23.3.1\u001b[0m\u001b[39;49m -> \u001b[0m\u001b[32;49m23.3.2\u001b[0m\n",
      "\u001b[1m[\u001b[0m\u001b[34;49mnotice\u001b[0m\u001b[1;39;49m]\u001b[0m\u001b[39;49m To update, run: \u001b[0m\u001b[32;49mpython3.11 -m pip install --upgrade pip\u001b[0m\n"
     ]
    }
   ],
   "source": [
    "!pip install openai"
   ]
  },
  {
   "cell_type": "code",
   "execution_count": 4,
   "id": "4b52b6a2-b5bb-4d5d-9841-34968409a538",
   "metadata": {
    "scrolled": true
   },
   "outputs": [
    {
     "name": "stdout",
     "output_type": "stream",
     "text": [
      "Requirement already satisfied: pytz in /usr/local/lib/python3.11/site-packages (2021.3)\n",
      "\n",
      "\u001b[1m[\u001b[0m\u001b[34;49mnotice\u001b[0m\u001b[1;39;49m]\u001b[0m\u001b[39;49m A new release of pip is available: \u001b[0m\u001b[31;49m23.3.1\u001b[0m\u001b[39;49m -> \u001b[0m\u001b[32;49m23.3.2\u001b[0m\n",
      "\u001b[1m[\u001b[0m\u001b[34;49mnotice\u001b[0m\u001b[1;39;49m]\u001b[0m\u001b[39;49m To update, run: \u001b[0m\u001b[32;49mpython3.11 -m pip install --upgrade pip\u001b[0m\n",
      "Requirement already satisfied: tzlocal in /usr/local/lib/python3.11/site-packages (5.2)\n",
      "\n",
      "\u001b[1m[\u001b[0m\u001b[34;49mnotice\u001b[0m\u001b[1;39;49m]\u001b[0m\u001b[39;49m A new release of pip is available: \u001b[0m\u001b[31;49m23.3.1\u001b[0m\u001b[39;49m -> \u001b[0m\u001b[32;49m23.3.2\u001b[0m\n",
      "\u001b[1m[\u001b[0m\u001b[34;49mnotice\u001b[0m\u001b[1;39;49m]\u001b[0m\u001b[39;49m To update, run: \u001b[0m\u001b[32;49mpython3.11 -m pip install --upgrade pip\u001b[0m\n"
     ]
    }
   ],
   "source": [
    "!pip install pytz\n",
    "!pip install tzlocal"
   ]
  },
  {
   "cell_type": "code",
   "execution_count": 5,
   "id": "4e86c610-8dc4-4d66-9a22-abae1bac4bc1",
   "metadata": {},
   "outputs": [
    {
     "name": "stdout",
     "output_type": "stream",
     "text": [
      "data/client_secret_calendar.json-calendar-v3-(['https://www.googleapis.com/auth/calendar'],)\n",
      "['https://www.googleapis.com/auth/calendar']\n",
      "calendar service created successfully\n",
      "Calendar: lvjian700@gmail.com\n",
      "Timezone: Australia/Melbourne\n"
     ]
    }
   ],
   "source": [
    "from Calendar import get_events, get_time_range"
   ]
  },
  {
   "cell_type": "code",
   "execution_count": 6,
   "id": "f2884767-9851-40fd-9c96-cb6f20aeebf2",
   "metadata": {},
   "outputs": [
    {
     "data": {
      "text/plain": [
       "(datetime.datetime(2024, 1, 29, 0, 0, tzinfo=<DstTzInfo 'Australia/Melbourne' AEDT+11:00:00 DST>),\n",
       " datetime.datetime(2024, 1, 29, 23, 59, 59, 999999, tzinfo=<DstTzInfo 'Australia/Melbourne' AEDT+11:00:00 DST>))"
      ]
     },
     "execution_count": 6,
     "metadata": {},
     "output_type": "execute_result"
    }
   ],
   "source": [
    "get_time_range(\"today\")"
   ]
  },
  {
   "cell_type": "code",
   "execution_count": 7,
   "id": "44857021-1287-463a-945b-4afa4568fd58",
   "metadata": {},
   "outputs": [
    {
     "data": {
      "text/plain": [
       "[{'kind': 'calendar#event',\n",
       "  'etag': '\"3412856825746000\"',\n",
       "  'id': '0d7paooipbuih0lsl2muh4n1oo',\n",
       "  'status': 'confirmed',\n",
       "  'htmlLink': 'https://www.google.com/calendar/event?eid=MGQ3cGFvb2lwYnVpaDBsc2wybXVoNG4xb28gbHZqaWFuNzAwQG0',\n",
       "  'created': '2024-01-28T07:53:32.000Z',\n",
       "  'updated': '2024-01-28T07:53:32.873Z',\n",
       "  'summary': 'Take a break',\n",
       "  'creator': {'email': 'lvjian700@gmail.com', 'self': True},\n",
       "  'organizer': {'email': 'lvjian700@gmail.com', 'self': True},\n",
       "  'start': {'dateTime': '2024-01-29T05:30:00+11:00',\n",
       "   'timeZone': 'Australia/Melbourne'},\n",
       "  'end': {'dateTime': '2024-01-29T05:45:00+11:00',\n",
       "   'timeZone': 'Australia/Melbourne'},\n",
       "  'iCalUID': '0d7paooipbuih0lsl2muh4n1oo@google.com',\n",
       "  'sequence': 0,\n",
       "  'reminders': {'useDefault': True},\n",
       "  'eventType': 'default'},\n",
       " {'kind': 'calendar#event',\n",
       "  'etag': '\"3412859274234000\"',\n",
       "  'id': '5olgkr840m74k5lbq40odfqbco',\n",
       "  'status': 'confirmed',\n",
       "  'htmlLink': 'https://www.google.com/calendar/event?eid=NW9sZ2tyODQwbTc0azVsYnE0MG9kZnFiY28gbHZqaWFuNzAwQG0',\n",
       "  'created': '2024-01-28T08:13:57.000Z',\n",
       "  'updated': '2024-01-28T08:13:57.117Z',\n",
       "  'summary': 'Take a break',\n",
       "  'creator': {'email': 'lvjian700@gmail.com', 'self': True},\n",
       "  'organizer': {'email': 'lvjian700@gmail.com', 'self': True},\n",
       "  'start': {'dateTime': '2024-01-29T05:30:00+11:00',\n",
       "   'timeZone': 'Australia/Melbourne'},\n",
       "  'end': {'dateTime': '2024-01-29T05:45:00+11:00',\n",
       "   'timeZone': 'Australia/Melbourne'},\n",
       "  'iCalUID': '5olgkr840m74k5lbq40odfqbco@google.com',\n",
       "  'sequence': 0,\n",
       "  'reminders': {'useDefault': True},\n",
       "  'eventType': 'default'},\n",
       " {'kind': 'calendar#event',\n",
       "  'etag': '\"3412856218494000\"',\n",
       "  'id': '7eivtih0kqkdiam03smp1113ec',\n",
       "  'status': 'confirmed',\n",
       "  'htmlLink': 'https://www.google.com/calendar/event?eid=N2VpdnRpaDBrcWtkaWFtMDNzbXAxMTEzZWMgbHZqaWFuNzAwQG0',\n",
       "  'created': '2024-01-28T07:48:29.000Z',\n",
       "  'updated': '2024-01-28T07:48:29.247Z',\n",
       "  'summary': 'Take a break',\n",
       "  'creator': {'email': 'lvjian700@gmail.com', 'self': True},\n",
       "  'organizer': {'email': 'lvjian700@gmail.com', 'self': True},\n",
       "  'start': {'dateTime': '2024-01-29T05:30:00+11:00',\n",
       "   'timeZone': 'Australia/Melbourne'},\n",
       "  'end': {'dateTime': '2024-01-29T05:45:00+11:00',\n",
       "   'timeZone': 'Australia/Melbourne'},\n",
       "  'iCalUID': '7eivtih0kqkdiam03smp1113ec@google.com',\n",
       "  'sequence': 0,\n",
       "  'reminders': {'useDefault': True},\n",
       "  'eventType': 'default'},\n",
       " {'kind': 'calendar#event',\n",
       "  'etag': '\"3412857107894000\"',\n",
       "  'id': 'cfafkmfuq2prnmf8bjftm238r8',\n",
       "  'status': 'confirmed',\n",
       "  'htmlLink': 'https://www.google.com/calendar/event?eid=Y2ZhZmttZnVxMnBybm1mOGJqZnRtMjM4cjggbHZqaWFuNzAwQG0',\n",
       "  'created': '2024-01-28T07:55:53.000Z',\n",
       "  'updated': '2024-01-28T07:55:53.947Z',\n",
       "  'summary': 'Take a break',\n",
       "  'creator': {'email': 'lvjian700@gmail.com', 'self': True},\n",
       "  'organizer': {'email': 'lvjian700@gmail.com', 'self': True},\n",
       "  'start': {'dateTime': '2024-01-29T05:30:00+11:00',\n",
       "   'timeZone': 'Australia/Melbourne'},\n",
       "  'end': {'dateTime': '2024-01-29T05:45:00+11:00',\n",
       "   'timeZone': 'Australia/Melbourne'},\n",
       "  'iCalUID': 'cfafkmfuq2prnmf8bjftm238r8@google.com',\n",
       "  'sequence': 0,\n",
       "  'reminders': {'useDefault': True},\n",
       "  'eventType': 'default'},\n",
       " {'kind': 'calendar#event',\n",
       "  'etag': '\"3412856248624000\"',\n",
       "  'id': 'k3826c18hnln02vb3r0173aeg4',\n",
       "  'status': 'confirmed',\n",
       "  'htmlLink': 'https://www.google.com/calendar/event?eid=azM4MjZjMThobmxuMDJ2YjNyMDE3M2FlZzQgbHZqaWFuNzAwQG0',\n",
       "  'created': '2024-01-28T07:48:44.000Z',\n",
       "  'updated': '2024-01-28T07:48:44.312Z',\n",
       "  'summary': 'Take a break',\n",
       "  'creator': {'email': 'lvjian700@gmail.com', 'self': True},\n",
       "  'organizer': {'email': 'lvjian700@gmail.com', 'self': True},\n",
       "  'start': {'dateTime': '2024-01-29T05:30:00+11:00',\n",
       "   'timeZone': 'Australia/Melbourne'},\n",
       "  'end': {'dateTime': '2024-01-29T05:45:00+11:00',\n",
       "   'timeZone': 'Australia/Melbourne'},\n",
       "  'iCalUID': 'k3826c18hnln02vb3r0173aeg4@google.com',\n",
       "  'sequence': 0,\n",
       "  'reminders': {'useDefault': True},\n",
       "  'eventType': 'default'},\n",
       " {'kind': 'calendar#event',\n",
       "  'etag': '\"3412859165810000\"',\n",
       "  'id': 'l4tu553mhg3b01f2retntgqtrk',\n",
       "  'status': 'confirmed',\n",
       "  'htmlLink': 'https://www.google.com/calendar/event?eid=bDR0dTU1M21oZzNiMDFmMnJldG50Z3F0cmsgbHZqaWFuNzAwQG0',\n",
       "  'created': '2024-01-28T08:13:02.000Z',\n",
       "  'updated': '2024-01-28T08:13:02.905Z',\n",
       "  'summary': 'Take a break',\n",
       "  'creator': {'email': 'lvjian700@gmail.com', 'self': True},\n",
       "  'organizer': {'email': 'lvjian700@gmail.com', 'self': True},\n",
       "  'start': {'dateTime': '2024-01-29T05:30:00+11:00',\n",
       "   'timeZone': 'Australia/Melbourne'},\n",
       "  'end': {'dateTime': '2024-01-29T05:45:00+11:00',\n",
       "   'timeZone': 'Australia/Melbourne'},\n",
       "  'iCalUID': 'l4tu553mhg3b01f2retntgqtrk@google.com',\n",
       "  'sequence': 0,\n",
       "  'reminders': {'useDefault': True},\n",
       "  'eventType': 'default'},\n",
       " {'kind': 'calendar#event',\n",
       "  'etag': '\"3412858739382000\"',\n",
       "  'id': '4o4gkh726gda1guorms2pm83e4',\n",
       "  'status': 'confirmed',\n",
       "  'htmlLink': 'https://www.google.com/calendar/event?eid=NG80Z2toNzI2Z2RhMWd1b3JtczJwbTgzZTQgbHZqaWFuNzAwQG0',\n",
       "  'created': '2024-01-28T08:09:29.000Z',\n",
       "  'updated': '2024-01-28T08:09:29.691Z',\n",
       "  'summary': 'Break',\n",
       "  'creator': {'email': 'lvjian700@gmail.com', 'self': True},\n",
       "  'organizer': {'email': 'lvjian700@gmail.com', 'self': True},\n",
       "  'start': {'dateTime': '2024-01-29T07:00:00+11:00',\n",
       "   'timeZone': 'Australia/Melbourne'},\n",
       "  'end': {'dateTime': '2024-01-29T07:15:00+11:00',\n",
       "   'timeZone': 'Australia/Melbourne'},\n",
       "  'iCalUID': '4o4gkh726gda1guorms2pm83e4@google.com',\n",
       "  'sequence': 0,\n",
       "  'reminders': {'useDefault': True},\n",
       "  'eventType': 'default'}]"
      ]
     },
     "execution_count": 7,
     "metadata": {},
     "output_type": "execute_result"
    }
   ],
   "source": [
    "events = get_events(\"today\")\n",
    "events"
   ]
  },
  {
   "cell_type": "code",
   "execution_count": 8,
   "id": "70ab5c2a-55b6-45ae-840f-f34e051d9193",
   "metadata": {},
   "outputs": [],
   "source": [
    "def simplify_event(event):\n",
    "    return {\n",
    "        'summary': event['summary'],\n",
    "        'start': event['start']['dateTime'],\n",
    "        'end': event['end']['dateTime']\n",
    "    }"
   ]
  },
  {
   "cell_type": "code",
   "execution_count": 9,
   "id": "9f0a294c-df29-4ab4-9d0b-365ab9c1918a",
   "metadata": {},
   "outputs": [
    {
     "data": {
      "text/plain": [
       "[{'summary': 'Take a break',\n",
       "  'start': '2024-01-29T05:30:00+11:00',\n",
       "  'end': '2024-01-29T05:45:00+11:00'},\n",
       " {'summary': 'Take a break',\n",
       "  'start': '2024-01-29T05:30:00+11:00',\n",
       "  'end': '2024-01-29T05:45:00+11:00'},\n",
       " {'summary': 'Take a break',\n",
       "  'start': '2024-01-29T05:30:00+11:00',\n",
       "  'end': '2024-01-29T05:45:00+11:00'},\n",
       " {'summary': 'Take a break',\n",
       "  'start': '2024-01-29T05:30:00+11:00',\n",
       "  'end': '2024-01-29T05:45:00+11:00'},\n",
       " {'summary': 'Take a break',\n",
       "  'start': '2024-01-29T05:30:00+11:00',\n",
       "  'end': '2024-01-29T05:45:00+11:00'},\n",
       " {'summary': 'Take a break',\n",
       "  'start': '2024-01-29T05:30:00+11:00',\n",
       "  'end': '2024-01-29T05:45:00+11:00'},\n",
       " {'summary': 'Break',\n",
       "  'start': '2024-01-29T07:00:00+11:00',\n",
       "  'end': '2024-01-29T07:15:00+11:00'}]"
      ]
     },
     "execution_count": 9,
     "metadata": {},
     "output_type": "execute_result"
    }
   ],
   "source": [
    "simplified_events = [simplify_event(event) for event in events]\n",
    "simplified_events"
   ]
  },
  {
   "cell_type": "markdown",
   "id": "64b0bf13-9850-417e-868a-7ba310087779",
   "metadata": {},
   "source": [
    "## GPT Function - get_schedule"
   ]
  },
  {
   "cell_type": "code",
   "execution_count": 10,
   "id": "c6e65412-e4b4-4c49-89e0-a7ea20557038",
   "metadata": {},
   "outputs": [],
   "source": [
    "## define function for Assistant\n",
    "def get_schedule(params): # {period: string} period is an enum: today|week\n",
    "    events = get_events(params['period'])\n",
    "    simplified_events = [simplify_event(event) for event in events]\n",
    "    return {\n",
    "        'schedules': simplified_events\n",
    "    }"
   ]
  },
  {
   "cell_type": "code",
   "execution_count": 11,
   "id": "1aab3455-94dc-4089-b697-63cfc941e6b0",
   "metadata": {},
   "outputs": [
    {
     "data": {
      "text/plain": [
       "{'schedules': [{'summary': 'Take a break',\n",
       "   'start': '2024-01-29T05:30:00+11:00',\n",
       "   'end': '2024-01-29T05:45:00+11:00'},\n",
       "  {'summary': 'Take a break',\n",
       "   'start': '2024-01-29T05:30:00+11:00',\n",
       "   'end': '2024-01-29T05:45:00+11:00'},\n",
       "  {'summary': 'Take a break',\n",
       "   'start': '2024-01-29T05:30:00+11:00',\n",
       "   'end': '2024-01-29T05:45:00+11:00'},\n",
       "  {'summary': 'Take a break',\n",
       "   'start': '2024-01-29T05:30:00+11:00',\n",
       "   'end': '2024-01-29T05:45:00+11:00'},\n",
       "  {'summary': 'Take a break',\n",
       "   'start': '2024-01-29T05:30:00+11:00',\n",
       "   'end': '2024-01-29T05:45:00+11:00'},\n",
       "  {'summary': 'Take a break',\n",
       "   'start': '2024-01-29T05:30:00+11:00',\n",
       "   'end': '2024-01-29T05:45:00+11:00'},\n",
       "  {'summary': 'Break',\n",
       "   'start': '2024-01-29T07:00:00+11:00',\n",
       "   'end': '2024-01-29T07:15:00+11:00'}]}"
      ]
     },
     "execution_count": 11,
     "metadata": {},
     "output_type": "execute_result"
    }
   ],
   "source": [
    "get_schedule({'period': 'today'})"
   ]
  },
  {
   "cell_type": "code",
   "execution_count": 12,
   "id": "0c12eb5a-236f-4ac2-bccd-e4751db128ed",
   "metadata": {},
   "outputs": [],
   "source": [
    "get_schedule_schema = {\n",
    "  \"name\": \"get_schedule\",\n",
    "  \"description\": \"Get my schedule from calendar for certain time period\",\n",
    "  \"parameters\": {\n",
    "    \"type\": \"object\",\n",
    "    \"properties\": {\n",
    "      \"period\": {\n",
    "        \"type\": \"string\",\n",
    "        \"enum\": [\n",
    "          \"today\",\n",
    "          \"week\"\n",
    "        ]\n",
    "      }\n",
    "    },\n",
    "    \"required\": [\n",
    "      \"period\"\n",
    "    ]\n",
    "  }\n",
    "}"
   ]
  },
  {
   "cell_type": "markdown",
   "id": "9bba569d-ed17-4a2c-a5ab-24772f95cf44",
   "metadata": {},
   "source": [
    "## GPT Function - book_evnet"
   ]
  },
  {
   "cell_type": "code",
   "execution_count": 13,
   "id": "c8502b7d-54ca-4306-b40c-4308386c6ffc",
   "metadata": {},
   "outputs": [],
   "source": [
    "from datetime import datetime, timedelta\n",
    "from Calendar import time_to_datetime"
   ]
  },
  {
   "cell_type": "code",
   "execution_count": 14,
   "id": "fec6c0a9-7734-4f35-ad00-a74f16bbbb62",
   "metadata": {},
   "outputs": [
    {
     "data": {
      "text/plain": [
       "datetime.datetime(2024, 1, 29, 13, 50, tzinfo=<DstTzInfo 'Australia/Melbourne' AEDT+11:00:00 DST>)"
      ]
     },
     "execution_count": 14,
     "metadata": {},
     "output_type": "execute_result"
    }
   ],
   "source": [
    "time_to_datetime('13:50')"
   ]
  },
  {
   "cell_type": "code",
   "execution_count": 15,
   "id": "f5c47335-b7a1-4586-8d34-c27dfe05802b",
   "metadata": {},
   "outputs": [],
   "source": [
    "book_event_schema = {\n",
    "  \"name\": \"book_event\",\n",
    "  \"parameters\": {\n",
    "    \"type\": \"object\",\n",
    "    \"properties\": {\n",
    "      \"title\": {\n",
    "        \"type\": \"string\",\n",
    "        \"description\": \"A summary of the event\"\n",
    "      },\n",
    "      \"startTime\": {\n",
    "        \"type\": \"string\",\n",
    "        \"description\": \"A start time for the event, convert the time to 24hours foramt\"\n",
    "      },\n",
    "      \"durationInMins\": {\n",
    "        \"type\": \"integer\",\n",
    "        \"description\": \"duration for the event, convert it into mins\"\n",
    "      }\n",
    "    },\n",
    "    \"required\": [\n",
    "      \"title\"\n",
    "    ]\n",
    "  },\n",
    "  \"description\": \"Book an event on calendar.\"\n",
    "}"
   ]
  },
  {
   "cell_type": "code",
   "execution_count": 16,
   "id": "5521ea87-dfa9-4337-a717-ab2f5c8d4629",
   "metadata": {},
   "outputs": [],
   "source": [
    "from datetime import datetime, timedelta\n",
    "from Calendar import insert_event, time_to_iso_str\n",
    "\n",
    "def book_event(params):\n",
    "    title = params['title']\n",
    "    start_datetime = time_to_datetime(params['startTime'])\n",
    "    end_datetime = start_datetime + timedelta(minutes=params['durationInMins'])\n",
    "\n",
    "    print(f\"{start_datetime} ~ {end_datetime}\")\n",
    "\n",
    "    event_body = {\n",
    "        'summary': title,\n",
    "        'start': {\n",
    "            'dateTime': start_datetime.isoformat()\n",
    "        },\n",
    "        'end': {\n",
    "            'dateTime': end_datetime.isoformat()\n",
    "        }\n",
    "    }\n",
    "    print(event_body)\n",
    "    event = insert_event(event_body)\n",
    "    #print(event)\n",
    "    return simplify_event(event)"
   ]
  },
  {
   "cell_type": "code",
   "execution_count": 17,
   "id": "1f2df8c0-fef7-4380-80c7-94365679b2ef",
   "metadata": {},
   "outputs": [
    {
     "name": "stdout",
     "output_type": "stream",
     "text": [
      "2024-01-29 18:30:00+11:00 ~ 2024-01-29 18:45:00+11:00\n",
      "{'summary': 'Take a break', 'start': {'dateTime': '2024-01-29T18:30:00+11:00'}, 'end': {'dateTime': '2024-01-29T18:45:00+11:00'}}\n"
     ]
    },
    {
     "data": {
      "text/plain": [
       "{'summary': 'Take a break',\n",
       " 'start': '2024-01-29T18:30:00+11:00',\n",
       " 'end': '2024-01-29T18:45:00+11:00'}"
      ]
     },
     "execution_count": 17,
     "metadata": {},
     "output_type": "execute_result"
    }
   ],
   "source": [
    "book_event({\n",
    "    'title': 'Take a break',\n",
    "    'startTime': '18:30',\n",
    "    'durationInMins': 15\n",
    "})"
   ]
  },
  {
   "cell_type": "markdown",
   "id": "303fb0b9-72f2-4573-a4ec-5d3274ed2c8b",
   "metadata": {},
   "source": [
    "## Assistants"
   ]
  },
  {
   "cell_type": "code",
   "execution_count": 18,
   "id": "f0b691fc-c5d0-46ac-9463-1d80a4ee8ab0",
   "metadata": {},
   "outputs": [],
   "source": [
    "import json\n",
    "\n",
    "def show_json(obj):\n",
    "    display(json.loads(obj.model_dump_json()))"
   ]
  },
  {
   "cell_type": "code",
   "execution_count": 19,
   "id": "21952327-b9b2-41b5-8ce4-fb3d1110c3c0",
   "metadata": {},
   "outputs": [
    {
     "data": {
      "text/plain": [
       "{'id': 'asst_Izxk9TC50zbWnyeUYXBH27ol',\n",
       " 'created_at': 1706526286,\n",
       " 'description': None,\n",
       " 'file_ids': [],\n",
       " 'instructions': 'You are a helpful work assistant, assistant me for daily working task like checking or booking calendar, control slack message etc.',\n",
       " 'metadata': {},\n",
       " 'model': 'gpt-3.5-turbo-1106',\n",
       " 'name': 'Working Assistant',\n",
       " 'object': 'assistant',\n",
       " 'tools': []}"
      ]
     },
     "metadata": {},
     "output_type": "display_data"
    }
   ],
   "source": [
    "from openai import OpenAI\n",
    "\n",
    "client = OpenAI()\n",
    "\n",
    "def create_assistant(name, instructions, model=\"gpt-3.5-turbo-1106\"):\n",
    "    return client.beta.assistants.create(\n",
    "        name=name,\n",
    "        instructions=instructions,\n",
    "        model=model,\n",
    "    )\n",
    "\n",
    "assistant = create_assistant(\n",
    "    name = \"Working Assistant\",\n",
    "    instructions = \"You are a helpful work assistant, assistant me for daily working task like checking or booking calendar, control slack message etc.\"\n",
    ")\n",
    "show_json(assistant)"
   ]
  },
  {
   "cell_type": "markdown",
   "id": "e7be7e4d-a154-49ed-9faf-7857ab03c253",
   "metadata": {},
   "source": [
    "### Assistant Utils"
   ]
  },
  {
   "cell_type": "code",
   "execution_count": 20,
   "id": "08792496-912c-4092-b40d-b3b4f332440c",
   "metadata": {},
   "outputs": [],
   "source": [
    "import time\n",
    "\n",
    "def wait_on_run(run, thread):\n",
    "    while run.status == \"queued\" or run.status == \"in_progress\":\n",
    "        run = client.beta.threads.runs.retrieve(\n",
    "            thread_id=thread.id,\n",
    "            run_id=run.id,\n",
    "        )\n",
    "        time.sleep(0.5)\n",
    "    return run"
   ]
  },
  {
   "cell_type": "code",
   "execution_count": 21,
   "id": "d5b77d85-570e-4289-91bf-55e32c955a9b",
   "metadata": {},
   "outputs": [],
   "source": [
    "def submit_message(assistant_id, thread, user_message):\n",
    "    client.beta.threads.messages.create(\n",
    "        thread_id=thread.id, role=\"user\", content=user_message\n",
    "    )\n",
    "    return client.beta.threads.runs.create(\n",
    "        thread_id=thread.id,\n",
    "        assistant_id=assistant_id,\n",
    "    )\n",
    "\n",
    "\n",
    "def get_response(thread):\n",
    "    return client.beta.threads.messages.list(thread_id=thread.id, order=\"asc\")"
   ]
  },
  {
   "cell_type": "code",
   "execution_count": 64,
   "id": "7b2eb2d7-88f4-47fc-9f54-4014f980a5de",
   "metadata": {},
   "outputs": [],
   "source": [
    "def create_thread_and_run(user_input):\n",
    "    thread = client.beta.threads.create()\n",
    "    run = submit_message(assistant.id, thread, user_input)\n",
    "    return thread, run"
   ]
  },
  {
   "cell_type": "code",
   "execution_count": 23,
   "id": "c866710c-2ddd-43a2-a7e1-fd3deced200f",
   "metadata": {},
   "outputs": [],
   "source": [
    "def pretty_print(messages):\n",
    "    print(\"# Messages\")\n",
    "    for m in messages:\n",
    "        print(f\"{m.role}: {m.content[0].text.value}\")\n",
    "    print()"
   ]
  },
  {
   "cell_type": "markdown",
   "id": "cd1ef023-d770-4b06-8f1f-8c4b672c92ff",
   "metadata": {},
   "source": [
    "### Assist Calendar - Setup"
   ]
  },
  {
   "cell_type": "code",
   "execution_count": 24,
   "id": "c587d34a-14ed-4b34-80a7-97ecc0cc183d",
   "metadata": {},
   "outputs": [
    {
     "data": {
      "text/plain": [
       "{'id': 'asst_Izxk9TC50zbWnyeUYXBH27ol',\n",
       " 'created_at': 1706526286,\n",
       " 'description': None,\n",
       " 'file_ids': [],\n",
       " 'instructions': 'You are a helpful work assistant, assistant me for daily working task like checking or booking calendar, control slack message etc.',\n",
       " 'metadata': {},\n",
       " 'model': 'gpt-3.5-turbo-1106',\n",
       " 'name': 'Working Assistant',\n",
       " 'object': 'assistant',\n",
       " 'tools': [{'type': 'code_interpreter'},\n",
       "  {'function': {'name': 'get_schedule',\n",
       "    'description': 'Get my schedule from calendar for certain time period',\n",
       "    'parameters': {'type': 'object',\n",
       "     'properties': {'period': {'type': 'string', 'enum': ['today', 'week']}},\n",
       "     'required': ['period']}},\n",
       "   'type': 'function'},\n",
       "  {'function': {'name': 'book_event',\n",
       "    'description': 'Book an event on calendar.',\n",
       "    'parameters': {'type': 'object',\n",
       "     'properties': {'title': {'type': 'string',\n",
       "       'description': 'A summary of the event'},\n",
       "      'startTime': {'type': 'string',\n",
       "       'description': 'A start time for the event, convert the time to 24hours foramt'},\n",
       "      'durationInMins': {'type': 'integer',\n",
       "       'description': 'duration for the event, convert it into mins'}},\n",
       "     'required': ['title']}},\n",
       "   'type': 'function'}]}"
      ]
     },
     "metadata": {},
     "output_type": "display_data"
    }
   ],
   "source": [
    "assistant = client.beta.assistants.update(\n",
    "    assistant.id,\n",
    "    #model=\"gpt-4-1106-preview\",\n",
    "    tools=[\n",
    "        {\"type\": \"code_interpreter\"},\n",
    "        {\"type\": \"function\", \"function\": get_schedule_schema},\n",
    "        {\"type\": \"function\", \"function\": book_event_schema}\n",
    "    ],\n",
    ")\n",
    "show_json(assistant)"
   ]
  },
  {
   "cell_type": "markdown",
   "id": "ea679734-c0c2-47a2-ac14-b6b8264730ab",
   "metadata": {},
   "source": [
    "### Assist Calendar - Get Schedule"
   ]
  },
  {
   "cell_type": "code",
   "execution_count": 54,
   "id": "72d3f455-ed49-46f3-9e7a-8f2dbb4050b3",
   "metadata": {},
   "outputs": [
    {
     "data": {
      "text/plain": [
       "'requires_action'"
      ]
     },
     "execution_count": 54,
     "metadata": {},
     "output_type": "execute_result"
    }
   ],
   "source": [
    "thread, run = create_thread_and_run(\n",
    "    \"What's my schedule today?\"\n",
    ")\n",
    "run = wait_on_run(run, thread)\n",
    "run.status"
   ]
  },
  {
   "cell_type": "code",
   "execution_count": 55,
   "id": "736e4bb0-4a0b-4c9c-aef0-175193e8d7cf",
   "metadata": {},
   "outputs": [
    {
     "name": "stdout",
     "output_type": "stream",
     "text": [
      "Function Name: get_schedule\n",
      "Function Arguments:\n"
     ]
    },
    {
     "data": {
      "text/plain": [
       "{'period': 'today'}"
      ]
     },
     "execution_count": 55,
     "metadata": {},
     "output_type": "execute_result"
    }
   ],
   "source": [
    "import json\n",
    "\n",
    "# Extract single tool call\n",
    "tool_call = run.required_action.submit_tool_outputs.tool_calls[0]\n",
    "func_name = tool_call.function.name\n",
    "arguments = json.loads(tool_call.function.arguments)\n",
    "\n",
    "print(\"Function Name:\", func_name)\n",
    "print(\"Function Arguments:\")\n",
    "arguments"
   ]
  },
  {
   "cell_type": "code",
   "execution_count": 56,
   "id": "d64c5e7e-d57d-45ab-b63b-de54bd85c753",
   "metadata": {},
   "outputs": [
    {
     "data": {
      "text/plain": [
       "{'schedules': [{'summary': 'Take a break',\n",
       "   'start': '2024-01-29T05:30:00+11:00',\n",
       "   'end': '2024-01-29T05:45:00+11:00'},\n",
       "  {'summary': 'Take a break',\n",
       "   'start': '2024-01-29T05:30:00+11:00',\n",
       "   'end': '2024-01-29T05:45:00+11:00'},\n",
       "  {'summary': 'Take a break',\n",
       "   'start': '2024-01-29T05:30:00+11:00',\n",
       "   'end': '2024-01-29T05:45:00+11:00'},\n",
       "  {'summary': 'Take a break',\n",
       "   'start': '2024-01-29T05:30:00+11:00',\n",
       "   'end': '2024-01-29T05:45:00+11:00'},\n",
       "  {'summary': 'Take a break',\n",
       "   'start': '2024-01-29T05:30:00+11:00',\n",
       "   'end': '2024-01-29T05:45:00+11:00'},\n",
       "  {'summary': 'Take a break',\n",
       "   'start': '2024-01-29T05:30:00+11:00',\n",
       "   'end': '2024-01-29T05:45:00+11:00'},\n",
       "  {'summary': 'Break',\n",
       "   'start': '2024-01-29T07:00:00+11:00',\n",
       "   'end': '2024-01-29T07:15:00+11:00'},\n",
       "  {'summary': 'Stretching Session',\n",
       "   'start': '2024-01-29T09:45:00+11:00',\n",
       "   'end': '2024-01-29T10:00:00+11:00'},\n",
       "  {'summary': 'Stretching Session',\n",
       "   'start': '2024-01-29T17:45:00+11:00',\n",
       "   'end': '2024-01-29T18:00:00+11:00'},\n",
       "  {'summary': 'Take a break',\n",
       "   'start': '2024-01-29T18:30:00+11:00',\n",
       "   'end': '2024-01-29T18:45:00+11:00'},\n",
       "  {'summary': '15mins Break',\n",
       "   'start': '2024-01-29T20:00:00+11:00',\n",
       "   'end': '2024-01-29T20:15:00+11:00'},\n",
       "  {'summary': 'Stretching Session',\n",
       "   'start': '2024-01-29T23:00:00+11:00',\n",
       "   'end': '2024-01-29T23:15:00+11:00'},\n",
       "  {'summary': 'Meditation',\n",
       "   'start': '2024-01-29T23:00:00+11:00',\n",
       "   'end': '2024-01-29T23:15:00+11:00'}]}"
      ]
     },
     "execution_count": 56,
     "metadata": {},
     "output_type": "execute_result"
    }
   ],
   "source": [
    "output = None\n",
    "if func_name == 'get_schedule':\n",
    "    output = get_schedule(arguments)\n",
    "elif func_name == 'book_event':\n",
    "    output = book_event(arguments)\n",
    "output"
   ]
  },
  {
   "cell_type": "code",
   "execution_count": 57,
   "id": "61d5e980-9908-4e8a-b7ca-43077673947b",
   "metadata": {},
   "outputs": [
    {
     "data": {
      "text/plain": [
       "{'id': 'run_stiTHskCbXZNLtZIiP3YP6ms',\n",
       " 'assistant_id': 'asst_Izxk9TC50zbWnyeUYXBH27ol',\n",
       " 'cancelled_at': None,\n",
       " 'completed_at': None,\n",
       " 'created_at': 1706528026,\n",
       " 'expires_at': 1706528626,\n",
       " 'failed_at': None,\n",
       " 'file_ids': [],\n",
       " 'instructions': 'You are a helpful work assistant, assistant me for daily working task like checking or booking calendar, control slack message etc.',\n",
       " 'last_error': None,\n",
       " 'metadata': {},\n",
       " 'model': 'gpt-3.5-turbo-1106',\n",
       " 'object': 'thread.run',\n",
       " 'required_action': None,\n",
       " 'started_at': 1706528027,\n",
       " 'status': 'queued',\n",
       " 'thread_id': 'thread_cHhOWsWmWvvUY857EI137ys7',\n",
       " 'tools': [{'type': 'code_interpreter'},\n",
       "  {'function': {'name': 'get_schedule',\n",
       "    'description': 'Get my schedule from calendar for certain time period',\n",
       "    'parameters': {'type': 'object',\n",
       "     'properties': {'period': {'type': 'string', 'enum': ['today', 'week']}},\n",
       "     'required': ['period']}},\n",
       "   'type': 'function'},\n",
       "  {'function': {'name': 'book_event',\n",
       "    'description': 'Book an event on calendar.',\n",
       "    'parameters': {'type': 'object',\n",
       "     'properties': {'title': {'type': 'string',\n",
       "       'description': 'A summary of the event'},\n",
       "      'startTime': {'type': 'string',\n",
       "       'description': 'A start time for the event, convert the time to 24hours foramt'},\n",
       "      'durationInMins': {'type': 'integer',\n",
       "       'description': 'duration for the event, convert it into mins'}},\n",
       "     'required': ['title']}},\n",
       "   'type': 'function'}],\n",
       " 'usage': None}"
      ]
     },
     "metadata": {},
     "output_type": "display_data"
    }
   ],
   "source": [
    "run = client.beta.threads.runs.submit_tool_outputs(\n",
    "    thread_id=thread.id,\n",
    "    run_id=run.id,\n",
    "    tool_outputs=[\n",
    "        {\n",
    "            \"tool_call_id\": tool_call.id,\n",
    "            \"output\": json.dumps(output),\n",
    "        }\n",
    "    ],\n",
    ")\n",
    "show_json(run)"
   ]
  },
  {
   "cell_type": "code",
   "execution_count": 58,
   "id": "b1f93246-afd2-40ba-a4b3-9ccc8b2fc696",
   "metadata": {},
   "outputs": [
    {
     "name": "stdout",
     "output_type": "stream",
     "text": [
      "# Messages\n",
      "user: What's my schedule today?\n",
      "assistant: You have the following schedule today:\n",
      "\n",
      "1. Take a break - 05:30 AM to 05:45 AM\n",
      "2. Stretching Session - 09:45 AM to 10:00 AM\n",
      "3. Stretching Session - 05:45 PM to 06:00 PM\n",
      "4. Take a break - 06:30 PM to 06:45 PM\n",
      "5. 15mins Break - 08:00 PM to 08:15 PM\n",
      "6. Stretching Session - 11:00 PM to 11:15 PM\n",
      "7. Meditation - 11:00 PM to 11:15 PM\n",
      "\n"
     ]
    }
   ],
   "source": [
    "run = wait_on_run(run, thread)\n",
    "pretty_print(get_response(thread))"
   ]
  },
  {
   "cell_type": "markdown",
   "id": "af34af66-4c19-4431-a6f3-5d9c63446de3",
   "metadata": {},
   "source": [
    "### Assist Calendar - Book event"
   ]
  },
  {
   "cell_type": "code",
   "execution_count": 30,
   "id": "f32887ea-ca58-4832-a033-ac3b73f3a47c",
   "metadata": {},
   "outputs": [
    {
     "data": {
      "text/plain": [
       "'requires_action'"
      ]
     },
     "execution_count": 30,
     "metadata": {},
     "output_type": "execute_result"
    }
   ],
   "source": [
    "thread, run = create_thread_and_run(\n",
    "    \"I need to have a 15mins break at 8:00PM\"\n",
    ")\n",
    "run = wait_on_run(run, thread)\n",
    "run.status"
   ]
  },
  {
   "cell_type": "code",
   "execution_count": 31,
   "id": "61a29898-9368-4e9e-ab62-98167996d38d",
   "metadata": {},
   "outputs": [
    {
     "data": {
      "text/plain": [
       "[RequiredActionFunctionToolCall(id='call_ptsMCFA2yxFshJ25UBcY3Blq', function=Function(arguments='{\"title\":\"15mins Break\",\"startTime\":\"20:00\",\"durationInMins\":15}', name='book_event'), type='function')]"
      ]
     },
     "execution_count": 31,
     "metadata": {},
     "output_type": "execute_result"
    }
   ],
   "source": [
    "run.required_action.submit_tool_outputs.tool_calls"
   ]
  },
  {
   "cell_type": "code",
   "execution_count": 32,
   "id": "410d1df2-f6e1-4edd-b73c-7279150ecb59",
   "metadata": {},
   "outputs": [
    {
     "name": "stdout",
     "output_type": "stream",
     "text": [
      "Function Name: book_event\n",
      "Function Arguments:\n"
     ]
    },
    {
     "data": {
      "text/plain": [
       "{'title': '15mins Break', 'startTime': '20:00', 'durationInMins': 15}"
      ]
     },
     "execution_count": 32,
     "metadata": {},
     "output_type": "execute_result"
    }
   ],
   "source": [
    "import json\n",
    "\n",
    "# Extract single tool call\n",
    "tool_call = run.required_action.submit_tool_outputs.tool_calls[0]\n",
    "func_name = tool_call.function.name\n",
    "arguments = json.loads(tool_call.function.arguments)\n",
    "\n",
    "print(\"Function Name:\", func_name)\n",
    "print(\"Function Arguments:\")\n",
    "arguments"
   ]
  },
  {
   "cell_type": "code",
   "execution_count": 33,
   "id": "7d6ab285-2482-44cb-8e13-dbea6e354f43",
   "metadata": {},
   "outputs": [
    {
     "name": "stdout",
     "output_type": "stream",
     "text": [
      "2024-01-29 20:00:00+11:00 ~ 2024-01-29 20:15:00+11:00\n",
      "{'summary': '15mins Break', 'start': {'dateTime': '2024-01-29T20:00:00+11:00'}, 'end': {'dateTime': '2024-01-29T20:15:00+11:00'}}\n"
     ]
    },
    {
     "data": {
      "text/plain": [
       "{'summary': '15mins Break',\n",
       " 'start': '2024-01-29T20:00:00+11:00',\n",
       " 'end': '2024-01-29T20:15:00+11:00'}"
      ]
     },
     "execution_count": 33,
     "metadata": {},
     "output_type": "execute_result"
    }
   ],
   "source": [
    "output = None\n",
    "if func_name == 'get_schedule':\n",
    "    output = get_schedule(arguments)\n",
    "elif func_name == 'book_event':\n",
    "    output = book_event(arguments)\n",
    "output"
   ]
  },
  {
   "cell_type": "code",
   "execution_count": 34,
   "id": "1f103217-a6b0-4027-9cfd-d6034c132823",
   "metadata": {},
   "outputs": [
    {
     "data": {
      "text/plain": [
       "{'id': 'run_jT0aqkS6iAM9QdnR7MpWnELr',\n",
       " 'assistant_id': 'asst_Izxk9TC50zbWnyeUYXBH27ol',\n",
       " 'cancelled_at': None,\n",
       " 'completed_at': None,\n",
       " 'created_at': 1706526297,\n",
       " 'expires_at': 1706526897,\n",
       " 'failed_at': None,\n",
       " 'file_ids': [],\n",
       " 'instructions': 'You are a helpful work assistant, assistant me for daily working task like checking or booking calendar, control slack message etc.',\n",
       " 'last_error': None,\n",
       " 'metadata': {},\n",
       " 'model': 'gpt-3.5-turbo-1106',\n",
       " 'object': 'thread.run',\n",
       " 'required_action': None,\n",
       " 'started_at': 1706526297,\n",
       " 'status': 'queued',\n",
       " 'thread_id': 'thread_MuG5XAM1AC2MTEUHaeXY1013',\n",
       " 'tools': [{'type': 'code_interpreter'},\n",
       "  {'function': {'name': 'get_schedule',\n",
       "    'description': 'Get my schedule from calendar for certain time period',\n",
       "    'parameters': {'type': 'object',\n",
       "     'properties': {'period': {'type': 'string', 'enum': ['today', 'week']}},\n",
       "     'required': ['period']}},\n",
       "   'type': 'function'},\n",
       "  {'function': {'name': 'book_event',\n",
       "    'description': 'Book an event on calendar.',\n",
       "    'parameters': {'type': 'object',\n",
       "     'properties': {'title': {'type': 'string',\n",
       "       'description': 'A summary of the event'},\n",
       "      'startTime': {'type': 'string',\n",
       "       'description': 'A start time for the event, convert the time to 24hours foramt'},\n",
       "      'durationInMins': {'type': 'integer',\n",
       "       'description': 'duration for the event, convert it into mins'}},\n",
       "     'required': ['title']}},\n",
       "   'type': 'function'}],\n",
       " 'usage': None}"
      ]
     },
     "metadata": {},
     "output_type": "display_data"
    }
   ],
   "source": [
    "run = client.beta.threads.runs.submit_tool_outputs(\n",
    "    thread_id=thread.id,\n",
    "    run_id=run.id,\n",
    "    tool_outputs=[\n",
    "        {\n",
    "            \"tool_call_id\": tool_call.id,\n",
    "            \"output\": json.dumps(output),\n",
    "        }\n",
    "    ],\n",
    ")\n",
    "show_json(run)"
   ]
  },
  {
   "cell_type": "code",
   "execution_count": 35,
   "id": "1aab30c8-d3b1-4182-8fb3-40d2ace9fe10",
   "metadata": {},
   "outputs": [
    {
     "name": "stdout",
     "output_type": "stream",
     "text": [
      "# Messages\n",
      "user: I need to have a 15mins break at 8:00PM\n",
      "assistant: Your 15-minute break has been scheduled from 8:00 PM to 8:15 PM.\n",
      "\n"
     ]
    }
   ],
   "source": [
    "run = wait_on_run(run, thread)\n",
    "pretty_print(get_response(thread))"
   ]
  },
  {
   "cell_type": "code",
   "execution_count": 80,
   "id": "a9719a15-8f17-4872-be95-239922bf284d",
   "metadata": {},
   "outputs": [],
   "source": [
    "def execute_func(func_name, arguments):\n",
    "    output = None\n",
    "\n",
    "    if func_name == 'get_schedule':\n",
    "        output = get_schedule(arguments)\n",
    "    elif func_name == 'book_event':\n",
    "        output = book_event(arguments)\n",
    "\n",
    "    return output\n",
    "\n",
    "def prompt(message, thread):\n",
    "    run = submit_message(assistant.id, thread, message)\n",
    "    run = wait_on_run(run, thread)\n",
    "\n",
    "    if run.status == 'requires_action':\n",
    "        # Extract single tool call,\n",
    "        tool_call = run.required_action.submit_tool_outputs.tool_calls[0]\n",
    "        func_name = tool_call.function.name\n",
    "        arguments = json.loads(tool_call.function.arguments)\n",
    "\n",
    "        output = execute_func(func_name, arguments)\n",
    "\n",
    "        run = client.beta.threads.runs.submit_tool_outputs(\n",
    "            thread_id=thread.id,\n",
    "            run_id=run.id,\n",
    "            tool_outputs=[\n",
    "                {\n",
    "                    \"tool_call_id\": tool_call.id,\n",
    "                    \"output\": json.dumps(output),\n",
    "                }\n",
    "            ],\n",
    "        )\n",
    "        run = wait_on_run(run, thread)\n",
    "\n",
    "    pretty_print(get_response(thread))\n",
    "\n"
   ]
  },
  {
   "cell_type": "code",
   "execution_count": 86,
   "id": "7c029963-ce12-41c2-a436-de173b167fb5",
   "metadata": {},
   "outputs": [],
   "source": [
    "from functools import partial\n",
    "\n",
    "def start_conversation():\n",
    "    thread = client.beta.threads.create()\n",
    "    return partial(prompt, thread = thread)"
   ]
  },
  {
   "cell_type": "code",
   "execution_count": 87,
   "id": "8d5a332e-4ab1-43e0-9923-3cfca340f03e",
   "metadata": {},
   "outputs": [],
   "source": [
    "chat = start_conversation()"
   ]
  },
  {
   "cell_type": "code",
   "execution_count": 88,
   "id": "eb3bf79d-661a-4ee7-a8df-8518e4065de7",
   "metadata": {},
   "outputs": [
    {
     "name": "stdout",
     "output_type": "stream",
     "text": [
      "# Messages\n",
      "user: What's my schedule today\n",
      "assistant: You have the following schedule for today:\n",
      "1. Take a break - 5:30 AM to 5:45 AM\n",
      "2. Break - 7:00 AM to 7:15 AM\n",
      "3. Stretching Session - 9:45 AM to 10:00 AM\n",
      "4. Stretching Session - 5:45 PM to 6:00 PM\n",
      "5. Take a break - 6:30 PM to 6:45 PM\n",
      "6. 15mins Break - 8:00 PM to 8:15 PM\n",
      "7. Meditation - 11:00 PM to 11:15 PM\n",
      "\n"
     ]
    }
   ],
   "source": [
    "chat(\"What's my schedule today\")"
   ]
  },
  {
   "cell_type": "code",
   "execution_count": 89,
   "id": "67939757-1560-4604-8391-3b6ba15aba8e",
   "metadata": {},
   "outputs": [
    {
     "name": "stdout",
     "output_type": "stream",
     "text": [
      "# Messages\n",
      "user: What's my schedule today\n",
      "assistant: You have the following schedule for today:\n",
      "1. Take a break - 5:30 AM to 5:45 AM\n",
      "2. Break - 7:00 AM to 7:15 AM\n",
      "3. Stretching Session - 9:45 AM to 10:00 AM\n",
      "4. Stretching Session - 5:45 PM to 6:00 PM\n",
      "5. Take a break - 6:30 PM to 6:45 PM\n",
      "6. 15mins Break - 8:00 PM to 8:15 PM\n",
      "7. Meditation - 11:00 PM to 11:15 PM\n",
      "user: When is my last session start? what's the duration?\n",
      "assistant: Your last session, \"Meditation,\" is scheduled to start at 11:00 PM today. It has a duration of 15 minutes, ending at 11:15 PM.\n",
      "\n"
     ]
    }
   ],
   "source": [
    "chat(\"When is my last session start? what's the duration?\")"
   ]
  },
  {
   "cell_type": "code",
   "execution_count": 90,
   "id": "9e4783ac-7b48-4392-94a6-d4c0f46289ca",
   "metadata": {},
   "outputs": [
    {
     "name": "stdout",
     "output_type": "stream",
     "text": [
      "2024-01-29 22:45:00+11:00 ~ 2024-01-29 23:00:00+11:00\n",
      "{'summary': 'Stretching Session', 'start': {'dateTime': '2024-01-29T22:45:00+11:00'}, 'end': {'dateTime': '2024-01-29T23:00:00+11:00'}}\n",
      "# Messages\n",
      "user: What's my schedule today\n",
      "assistant: You have the following schedule for today:\n",
      "1. Take a break - 5:30 AM to 5:45 AM\n",
      "2. Break - 7:00 AM to 7:15 AM\n",
      "3. Stretching Session - 9:45 AM to 10:00 AM\n",
      "4. Stretching Session - 5:45 PM to 6:00 PM\n",
      "5. Take a break - 6:30 PM to 6:45 PM\n",
      "6. 15mins Break - 8:00 PM to 8:15 PM\n",
      "7. Meditation - 11:00 PM to 11:15 PM\n",
      "user: When is my last session start? what's the duration?\n",
      "assistant: Your last session, \"Meditation,\" is scheduled to start at 11:00 PM today. It has a duration of 15 minutes, ending at 11:15 PM.\n",
      "user: Book a 15mins streching session before my last session\n",
      "assistant: The 15-minute stretching session has been successfully booked to start at 10:45 PM today.\n",
      "\n"
     ]
    }
   ],
   "source": [
    "chat(\"Book a 15mins streching session before my last session\")"
   ]
  },
  {
   "cell_type": "code",
   "execution_count": null,
   "id": "6dcc984c-62b3-448f-b7c7-b788d49c3913",
   "metadata": {},
   "outputs": [],
   "source": []
  }
 ],
 "metadata": {
  "kernelspec": {
   "display_name": "Python (Global)",
   "language": "python",
   "name": "global-python"
  },
  "language_info": {
   "codemirror_mode": {
    "name": "ipython",
    "version": 3
   },
   "file_extension": ".py",
   "mimetype": "text/x-python",
   "name": "python",
   "nbconvert_exporter": "python",
   "pygments_lexer": "ipython3",
   "version": "3.11.7"
  }
 },
 "nbformat": 4,
 "nbformat_minor": 5
}

{
 "cells": [
  {
   "cell_type": "code",
   "execution_count": 1,
   "id": "601a47e7-f81e-4605-b539-7d90ccb40711",
   "metadata": {},
   "outputs": [],
   "source": [
    "%load_ext autoreload\n",
    "%autoreload 2"
   ]
  },
  {
   "cell_type": "code",
   "execution_count": 2,
   "id": "16c1fc1c-f292-4b37-99fa-5e52ac6e05a0",
   "metadata": {
    "scrolled": true
   },
   "outputs": [
    {
     "name": "stdout",
     "output_type": "stream",
     "text": [
      "Requirement already satisfied: pytz in /usr/local/lib/python3.11/site-packages (2021.3)\n",
      "\n",
      "\u001b[1m[\u001b[0m\u001b[34;49mnotice\u001b[0m\u001b[1;39;49m]\u001b[0m\u001b[39;49m A new release of pip is available: \u001b[0m\u001b[31;49m23.3.1\u001b[0m\u001b[39;49m -> \u001b[0m\u001b[32;49m23.3.2\u001b[0m\n",
      "\u001b[1m[\u001b[0m\u001b[34;49mnotice\u001b[0m\u001b[1;39;49m]\u001b[0m\u001b[39;49m To update, run: \u001b[0m\u001b[32;49mpython3.11 -m pip install --upgrade pip\u001b[0m\n",
      "Requirement already satisfied: tzlocal in /usr/local/lib/python3.11/site-packages (5.2)\n",
      "\n",
      "\u001b[1m[\u001b[0m\u001b[34;49mnotice\u001b[0m\u001b[1;39;49m]\u001b[0m\u001b[39;49m A new release of pip is available: \u001b[0m\u001b[31;49m23.3.1\u001b[0m\u001b[39;49m -> \u001b[0m\u001b[32;49m23.3.2\u001b[0m\n",
      "\u001b[1m[\u001b[0m\u001b[34;49mnotice\u001b[0m\u001b[1;39;49m]\u001b[0m\u001b[39;49m To update, run: \u001b[0m\u001b[32;49mpython3.11 -m pip install --upgrade pip\u001b[0m\n"
     ]
    }
   ],
   "source": [
    "!pip install pytz\n",
    "!pip install tzlocal"
   ]
  },
  {
   "cell_type": "code",
   "execution_count": 10,
   "id": "ce44d73d-d9da-4308-8c53-6aec7ff477a9",
   "metadata": {},
   "outputs": [
    {
     "data": {
      "text/plain": [
       "'Australia/Melbourne'"
      ]
     },
     "execution_count": 10,
     "metadata": {},
     "output_type": "execute_result"
    }
   ],
   "source": [
    "from tzlocal import get_localzone\n",
    "\n",
    "# Get the current system's timezone\n",
    "local_timezone = str(get_localzone())\n",
    "local_timezone"
   ]
  },
  {
   "cell_type": "code",
   "execution_count": 11,
   "id": "f074786c-300a-4b42-b377-5fed3b2114ca",
   "metadata": {},
   "outputs": [
    {
     "name": "stdout",
     "output_type": "stream",
     "text": [
      "2024-02-06 09:54:22.120058\n"
     ]
    }
   ],
   "source": [
    "from datetime import datetime\n",
    "now = datetime.now()\n",
    "print(now)"
   ]
  },
  {
   "cell_type": "code",
   "execution_count": 13,
   "id": "933d346c-8a12-4519-983b-e2be8f54515d",
   "metadata": {},
   "outputs": [
    {
     "data": {
      "text/plain": [
       "datetime.datetime(2024, 2, 6, 9, 54, 22, 120058, tzinfo=<DstTzInfo 'Australia/Melbourne' AEDT+11:00:00 DST>)"
      ]
     },
     "execution_count": 13,
     "metadata": {},
     "output_type": "execute_result"
    }
   ],
   "source": [
    "import pytz\n",
    "\n",
    "aware_from_naive = pytz.timezone(local_timezone).localize(now)\n",
    "aware_from_naive"
   ]
  },
  {
   "cell_type": "code",
   "execution_count": 14,
   "id": "e8a6a58e-c944-48fd-8869-d2fcc453533f",
   "metadata": {},
   "outputs": [
    {
     "data": {
      "text/plain": [
       "'2024-02-06T09:54:22.120058+11:00'"
      ]
     },
     "execution_count": 14,
     "metadata": {},
     "output_type": "execute_result"
    }
   ],
   "source": [
    "aware_from_naive.isoformat()"
   ]
  },
  {
   "cell_type": "code",
   "execution_count": null,
   "id": "339dff2d-8555-4f45-ac78-d500cfea7f51",
   "metadata": {},
   "outputs": [],
   "source": []
  }
 ],
 "metadata": {
  "kernelspec": {
   "display_name": "Python (Global)",
   "language": "python",
   "name": "global-python"
  },
  "language_info": {
   "codemirror_mode": {
    "name": "ipython",
    "version": 3
   },
   "file_extension": ".py",
   "mimetype": "text/x-python",
   "name": "python",
   "nbconvert_exporter": "python",
   "pygments_lexer": "ipython3",
   "version": "3.11.7"
  }
 },
 "nbformat": 4,
 "nbformat_minor": 5
}

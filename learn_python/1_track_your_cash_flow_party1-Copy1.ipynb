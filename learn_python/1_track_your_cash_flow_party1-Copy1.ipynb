{
 "cells": [
  {
   "cell_type": "markdown",
   "id": "c80f9d2d-56c9-43a1-b596-7853b3a87066",
   "metadata": {},
   "source": [
    "# Tracking your Cash Flow - Part 1\n",
    "\n",
    "You implement a income / expense tracking application, you will learn how to using Collection in Python"
   ]
  },
  {
   "cell_type": "markdown",
   "id": "b97b6c3e-e83f-44cf-90fb-8fc1cc21cd57",
   "metadata": {},
   "source": [
    "## Before Starting"
   ]
  },
  {
   "cell_type": "code",
   "execution_count": 9,
   "id": "e1dac2b2-8b05-4f22-90a8-664e9c8e071a",
   "metadata": {},
   "outputs": [],
   "source": [
    "# here is a list of boxes, the type of the value call Array\n",
    "boxes = ['Sugar', 'Salt', 'Pepper'] \n",
    "\n",
    "box_1 = boxes[0]  # 0 is the index of the value, starts from 0, not 1.  this is an odd thing in programming language.\n",
    "box_2 = boxes[1]\n",
    "box_3 = boxes[2]"
   ]
  },
  {
   "cell_type": "code",
   "execution_count": 3,
   "id": "d38c580c-fe84-464e-8bfc-8d6bf3735ff4",
   "metadata": {},
   "outputs": [
    {
     "name": "stdout",
     "output_type": "stream",
     "text": [
      "Box 1 contains: sugar\n"
     ]
    }
   ],
   "source": [
    "print(f\"Box 1 contains: {box_1}\")"
   ]
  },
  {
   "cell_type": "code",
   "execution_count": null,
   "id": "fb7c521b-009a-4edc-838d-ca9baa538eeb",
   "metadata": {},
   "outputs": [],
   "source": [
    "print(f\"Box 2 contains: {box_2}\") # execute it, and see"
   ]
  },
  {
   "cell_type": "code",
   "execution_count": null,
   "id": "8f2a4e92-abb1-41bd-a1ad-a8c93deab8bc",
   "metadata": {},
   "outputs": [],
   "source": [
    "print(f\"Box 3 contains: {box_3}\") # execute it, and see"
   ]
  },
  {
   "cell_type": "code",
   "execution_count": null,
   "id": "d1bacc32-a5ed-4b0a-9968-6a6db49ce7a4",
   "metadata": {},
   "outputs": [],
   "source": [
    "# The way of print all boxes above is not sustainable, what if there are 100 boxes, you won't get the value 1 by 1.\n",
    "# Ask ChatGPT: How to iterate the Array in Python: boxes = ['Sugar', 'Salt', 'Pepper'] \n",
    "# Then try different code you like\n",
    "\n"
   ]
  },
  {
   "cell_type": "code",
   "execution_count": 10,
   "id": "c8ba2993-cf62-4c52-8c21-c72ff434ce7f",
   "metadata": {},
   "outputs": [
    {
     "data": {
      "text/plain": [
       "['Sugar', 'Salt', 'Pepper', 'Seasame']"
      ]
     },
     "execution_count": 10,
     "metadata": {},
     "output_type": "execute_result"
    }
   ],
   "source": [
    "# Adding 1 box\n",
    "boxes.append('Seasame')\n",
    "boxes"
   ]
  },
  {
   "cell_type": "code",
   "execution_count": 13,
   "id": "080b0391-1a09-476a-8e74-83f2dc0e86d5",
   "metadata": {},
   "outputs": [
    {
     "data": {
      "text/plain": [
       "4"
      ]
     },
     "execution_count": 13,
     "metadata": {},
     "output_type": "execute_result"
    }
   ],
   "source": [
    "# How many boxes do you have right now?\n",
    "len(boxes)"
   ]
  },
  {
   "cell_type": "code",
   "execution_count": 14,
   "id": "cd12a75d-3e7d-4c34-8b4d-ce94559f7f6d",
   "metadata": {},
   "outputs": [
    {
     "data": {
      "text/plain": [
       "['Sugar', 'Salt', 'Pepper', 'Seasame', 'Sugar']"
      ]
     },
     "execution_count": 14,
     "metadata": {},
     "output_type": "execute_result"
    }
   ],
   "source": [
    "# Adding 1 box\n",
    "boxes.append('Sugar')\n",
    "boxes"
   ]
  },
  {
   "cell_type": "code",
   "execution_count": 15,
   "id": "cf14ceb6-8c5b-4cfe-8c28-7bb672e79ea6",
   "metadata": {},
   "outputs": [
    {
     "data": {
      "text/plain": [
       "2"
      ]
     },
     "execution_count": 15,
     "metadata": {},
     "output_type": "execute_result"
    }
   ],
   "source": [
    "# How many boxes contain Sugar?\n",
    "\n",
    "boxes.count('Sugar')"
   ]
  },
  {
   "cell_type": "code",
   "execution_count": null,
   "id": "8296da18-aa48-452b-8a43-33ac9327e5d7",
   "metadata": {},
   "outputs": [],
   "source": [
    "# Try your own\n",
    "\n"
   ]
  },
  {
   "cell_type": "markdown",
   "id": "8286a9b6-16f9-40d6-9107-7460f2d5f924",
   "metadata": {},
   "source": [
    "## Tracking income"
   ]
  },
  {
   "cell_type": "code",
   "execution_count": 17,
   "id": "d36fce3e-9eff-4b43-932f-0f384f544dfa",
   "metadata": {},
   "outputs": [
    {
     "name": "stdout",
     "output_type": "stream",
     "text": [
      "[10202.0, 10521.83, 10202.67, 10911.73, 9968.0, 10110.53, 9968.0, 10627.98, 9968.01, 9968.0, 9968.0, 9968.0]\n"
     ]
    }
   ],
   "source": [
    "incomes = [\n",
    "    10202.00,  # Jan\n",
    "    10521.83,  # Feb\n",
    "    10202.67,  # Mar\n",
    "    10911.73,  # Apr\n",
    "    9968.00,   # May\n",
    "    10110.53,  # Jun\n",
    "    9968.00,   # Jul\n",
    "    10627.98,  # Aug\n",
    "    9968.01,   # Sep\n",
    "    9968.00,   # Oct\n",
    "    9968.00,   # Nov\n",
    "    9968.00    # Dec\n",
    "]\n",
    "print(incomes)\n"
   ]
  },
  {
   "cell_type": "code",
   "execution_count": null,
   "id": "becc9930-9183-4c71-b262-4e1b31a32a90",
   "metadata": {},
   "outputs": [],
   "source": [
    "# Print salary of Jan"
   ]
  },
  {
   "cell_type": "code",
   "execution_count": null,
   "id": "5c897a5b-4465-481f-a2ea-6e2ebb008e86",
   "metadata": {},
   "outputs": [],
   "source": [
    "# Print salary of Dec"
   ]
  },
  {
   "cell_type": "code",
   "execution_count": null,
   "id": "81abe0af-443b-4bb9-a5c1-584bfdea09ec",
   "metadata": {},
   "outputs": [],
   "source": [
    "# Print salary of first half year"
   ]
  },
  {
   "cell_type": "code",
   "execution_count": null,
   "id": "9ccc0f45-d95f-4dcd-841f-7158dc9cf630",
   "metadata": {},
   "outputs": [],
   "source": [
    "# Print salary of second half year"
   ]
  },
  {
   "cell_type": "code",
   "execution_count": 18,
   "id": "358a7b1f-37d1-4a73-9563-ad53f09cb786",
   "metadata": {},
   "outputs": [],
   "source": [
    "# Calc total income in 2023"
   ]
  },
  {
   "cell_type": "code",
   "execution_count": 19,
   "id": "9b5b6a55-2221-48e7-a344-f07f62e2452f",
   "metadata": {},
   "outputs": [],
   "source": [
    "# Calc average monthly income"
   ]
  },
  {
   "cell_type": "markdown",
   "id": "a7206ca1-a147-4df1-b259-0dbc2c3c586d",
   "metadata": {},
   "source": [
    "## Tracking expenses"
   ]
  },
  {
   "cell_type": "code",
   "execution_count": 22,
   "id": "8e48180d-dcb8-4783-ae4b-5d88e37e5aff",
   "metadata": {},
   "outputs": [
    {
     "name": "stdout",
     "output_type": "stream",
     "text": [
      "[7949.39, 6945.28, 9967.68, 15961.15, 8865.4, 8839.26, 10503.68, 8225.97, 8239.02, 10382.03, 11587.64, 9306.37]\n"
     ]
    }
   ],
   "source": [
    "expenses = [\n",
    "    7949.39,\n",
    "    6945.28,\n",
    "    9967.68,\n",
    "    15961.15,\n",
    "    8865.4,\n",
    "    8839.26,\n",
    "    10503.68,\n",
    "    8225.97,\n",
    "    8239.02,\n",
    "    10382.03,\n",
    "    11587.64,\n",
    "    9306.37\n",
    "]\n",
    "print(expenses)"
   ]
  },
  {
   "cell_type": "markdown",
   "id": "02970dee-66ad-48a0-906d-68b923e4d5f0",
   "metadata": {},
   "source": [
    "## Tracking Cash flow"
   ]
  },
  {
   "cell_type": "markdown",
   "id": "7b9df3f8-2e48-4e6d-a013-06f13add25f9",
   "metadata": {},
   "source": [
    "Ask ChatGPT:\n",
    "```\n",
    "Write python code to calc my cash flow, show me the code, also give me the monthly resultL \n",
    "incomes = [10202.0, 10521.83, 10202.67, 10911.73, 9968.0, 10110.53, 9968.0, 10627.98, 9968.01, 9968.0, 9968.0, 9968.0]\n",
    "expenses = [7949.39, 6945.28, 9967.68, 15961.15, 8865.4, 8839.26, 10503.68, 8225.97, 8239.02, 10382.03, 11587.64, 9306.37]\n",
    "cashflow = [filling the result here]\n",
    "```\n"
   ]
  },
  {
   "cell_type": "code",
   "execution_count": 24,
   "id": "5b5aba4f-9086-41ba-878c-2dea010d0344",
   "metadata": {},
   "outputs": [
    {
     "name": "stdout",
     "output_type": "stream",
     "text": [
      "[2252.6099999999997, 3576.55, 234.98999999999978, -5049.42, 1102.6000000000004, 1271.2700000000004, -535.6800000000003, 2402.01, 1728.9899999999998, -414.03000000000065, -1619.6399999999994, 661.6299999999992]\n"
     ]
    }
   ],
   "source": [
    "# Past and run the code here:\n",
    "cashflow = [income - expense for income, expense in zip(incomes, expenses)]\n",
    "print(cashflow)"
   ]
  },
  {
   "cell_type": "code",
   "execution_count": null,
   "id": "ec7a2577-c501-4e6f-a764-f2805fdce828",
   "metadata": {},
   "outputs": [],
   "source": []
  }
 ],
 "metadata": {
  "kernelspec": {
   "display_name": "Python 3 (ipykernel)",
   "language": "python",
   "name": "python3"
  },
  "language_info": {
   "codemirror_mode": {
    "name": "ipython",
    "version": 3
   },
   "file_extension": ".py",
   "mimetype": "text/x-python",
   "name": "python",
   "nbconvert_exporter": "python",
   "pygments_lexer": "ipython3",
   "version": "3.11.7"
  }
 },
 "nbformat": 4,
 "nbformat_minor": 5
}

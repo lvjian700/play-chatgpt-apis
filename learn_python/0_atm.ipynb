{
 "cells": [
  {
   "cell_type": "markdown",
   "id": "9e509af9-38ab-47fb-ae2f-eb48bf49deaf",
   "metadata": {},
   "source": [
    "# ATM\n",
    "\n",
    "ATM maily provide `deposit` and `withdraw` functions for customer to access their Money.     \n",
    "You will implement a solid simple ATM application in this lesson.\n",
    "\n",
    "This simple assignment is derived from Cash App interview homework. \n"
   ]
  },
  {
   "cell_type": "markdown",
   "id": "59c17915-dff1-4e08-9359-a917a91ef359",
   "metadata": {},
   "source": [
    "## Before starting\n",
    "\n",
    "This section provides basic knowledge about function in Python."
   ]
  },
  {
   "cell_type": "code",
   "execution_count": 28,
   "id": "8065dd8f-636e-482b-ab59-da929e513c27",
   "metadata": {},
   "outputs": [
    {
     "name": "stdout",
     "output_type": "stream",
     "text": [
      "11\n"
     ]
    }
   ],
   "source": [
    "# function in Python.\n",
    "# Math: y = x + 1\n",
    "def plus_one(x): # plus_one is the function name\n",
    "                 #   x is input variable for the function\n",
    "    return x + 1 # return the value\n",
    "\n",
    "y = plus_one(10)\n",
    "print(y)"
   ]
  },
  {
   "cell_type": "code",
   "execution_count": 30,
   "id": "4902c40e-5bce-45d7-88d4-30598b4a5f9c",
   "metadata": {},
   "outputs": [
    {
     "name": "stdout",
     "output_type": "stream",
     "text": [
      "6\n"
     ]
    }
   ],
   "source": [
    "# function can also take more than 1 input variable, normally we call it parameters\n",
    "def sum(a, b, c): # a, b, c are 3 parameters in the function\n",
    "    return a + b + c\n",
    "\n",
    "sum_result = sum(1,2,3) # 6\n",
    "print(sum_result)"
   ]
  },
  {
   "cell_type": "code",
   "execution_count": null,
   "id": "a748e558-7ddd-47e7-8e49-4e2d0b081c63",
   "metadata": {},
   "outputs": [],
   "source": [
    "# Your turn:\n",
    "# define a function minus_one:  y = x - 1\n",
    "\n",
    "\n",
    "\n"
   ]
  },
  {
   "cell_type": "markdown",
   "id": "9228cf50-9956-4bc3-b208-be39256d84d8",
   "metadata": {},
   "source": [
    "## Deposit Cash"
   ]
  },
  {
   "cell_type": "code",
   "execution_count": 20,
   "id": "39a49f72-cbdb-4a45-abc4-8d5d01058227",
   "metadata": {},
   "outputs": [],
   "source": [
    "balance = 1000 # global value\n",
    "\n",
    "def deposit(amount_in_dollar):\n",
    "    global balance # declear you need to access global value inside a function\n",
    "    balance += amount_in_dollar\n",
    "    print(f\"You've successfuly deposited {amount_in_dollar} into your account\")\n",
    "    print(f\"Current balance: {balance}\")\n",
    "    return balance\n"
   ]
  },
  {
   "cell_type": "code",
   "execution_count": 21,
   "id": "c1714bca-19d6-4c2f-b9ca-7342f97c9c86",
   "metadata": {},
   "outputs": [
    {
     "name": "stdout",
     "output_type": "stream",
     "text": [
      "You've successfuly deposited 10 into your account\n",
      "Current balance: 1010\n"
     ]
    }
   ],
   "source": [
    "current_balance = deposit(10)\n",
    "assert current_balance == 1010"
   ]
  },
  {
   "cell_type": "code",
   "execution_count": 22,
   "id": "c3714edb-30e7-461a-89f9-7315783b57d0",
   "metadata": {},
   "outputs": [
    {
     "name": "stdout",
     "output_type": "stream",
     "text": [
      "You've successfuly deposited 20 into your account\n",
      "Current balance: 1030\n"
     ]
    }
   ],
   "source": [
    "# try deposit 20\n",
    "current_balance = deposit(20)\n",
    "assert current_balance == 1030"
   ]
  },
  {
   "cell_type": "code",
   "execution_count": 23,
   "id": "1774ed35-977d-4267-b5ad-476d9e00722c",
   "metadata": {},
   "outputs": [
    {
     "name": "stdout",
     "output_type": "stream",
     "text": [
      "You've successfuly deposited 1000 into your account\n",
      "Current balance: 2030\n"
     ]
    }
   ],
   "source": [
    "# try deposit 1000\n",
    "current_balance = deposit(1000)\n",
    "assert current_balance == 2030"
   ]
  },
  {
   "cell_type": "code",
   "execution_count": 24,
   "id": "4d33a4af-a8d5-4ef8-92bb-1753201e6530",
   "metadata": {},
   "outputs": [
    {
     "name": "stdout",
     "output_type": "stream",
     "text": [
      "You've successfuly deposited -1000 into your account\n",
      "Current balance: 1030\n"
     ]
    }
   ],
   "source": [
    "# try deposit -1000\n",
    "current_balance = deposit(-1000)\n",
    "assert current_balance == ????"
   ]
  },
  {
   "cell_type": "markdown",
   "id": "d3353ee8-4172-48da-b308-3b103405b4be",
   "metadata": {},
   "source": [
    "## You shouldn't allow anyone to deposit negative amount\n",
    "*Task*: Improve the deposit method\n",
    "\n",
    "- On getting negative amount, print: \"Invalid deposit amount -1000, deposit amount should > 0\"\n",
    "- Keep the remaining balance\n"
   ]
  },
  {
   "cell_type": "code",
   "execution_count": null,
   "id": "d608640e-4e26-4773-ab90-aabcfa8c332e",
   "metadata": {},
   "outputs": [],
   "source": [
    "def deposit_v2(amount_in_dollar):\n",
    "    # Adding your checking here\n",
    "    \n",
    "    return deposit(amount_in_dollar) # reuse code via function"
   ]
  },
  {
   "cell_type": "code",
   "execution_count": null,
   "id": "393e1e6f-2117-4675-bc12-acf5b95b7a2c",
   "metadata": {},
   "outputs": [],
   "source": [
    "current_balance = deposit_v2(1000)\n",
    "assert current_balance == 2030"
   ]
  },
  {
   "cell_type": "code",
   "execution_count": null,
   "id": "30ee58c0-2e25-4d1a-9584-0b520c8bb0c0",
   "metadata": {},
   "outputs": [],
   "source": [
    "current_balance = deposit_v2(-1000) # expecting print: \"Invalid deposit amount -1000, deposit amount should > 0\"\n",
    "assert current_balance == 2030"
   ]
  },
  {
   "cell_type": "code",
   "execution_count": null,
   "id": "158d199b-5f65-4e62-a2fb-c8216903c066",
   "metadata": {},
   "outputs": [],
   "source": [
    "current_balance = deposit_v2(0) # expecting print: \"Invalid deposit amount 0, deposit amount should > 0\"\n",
    "assert current_balance == 2030"
   ]
  },
  {
   "cell_type": "markdown",
   "id": "fb53f1d7-8fbb-4d2b-bc08-719874ce2f9a",
   "metadata": {},
   "source": [
    "## ATM has 2000 AUD threshold for single deposit transaction\n",
    "*Task*: Improve the deposit method\n",
    "\n",
    "- On getting amount > 2000, print: \"Invalid deposit amount 2000, deposit amount should <= 2000\"\n",
    "- Keep the remaining balance"
   ]
  },
  {
   "cell_type": "code",
   "execution_count": null,
   "id": "c6f87cf0-be23-4a1a-9680-c303c5922215",
   "metadata": {},
   "outputs": [],
   "source": [
    "def deposit_v3(amount_in_dollar):\n",
    "    # Adding your checking here\n",
    "    \n",
    "    return deposit_2(amount_in_dollar) # reuse code via function"
   ]
  },
  {
   "cell_type": "code",
   "execution_count": null,
   "id": "ca6efb25-70ff-43bd-be40-072404c12540",
   "metadata": {},
   "outputs": [],
   "source": [
    "current_balance = deposit_v3(2000)\n",
    "assert current_balance == 4030"
   ]
  },
  {
   "cell_type": "code",
   "execution_count": null,
   "id": "f9f42ad1-9de4-477a-a1c1-bad5d8cfe284",
   "metadata": {},
   "outputs": [],
   "source": [
    "current_balance = deposit_v3(12000)  # expecting print: \"Invalid deposit amount 12000, deposit amount should <= 2000\"\n",
    "assert current_balance == 4030"
   ]
  },
  {
   "cell_type": "markdown",
   "id": "9c16c96b-92cd-4d79-86c3-2771f6296974",
   "metadata": {},
   "source": [
    "## Withdraw Cash"
   ]
  },
  {
   "cell_type": "code",
   "execution_count": null,
   "id": "c3533df2-0b2e-41f7-b600-f2033c02349a",
   "metadata": {},
   "outputs": [],
   "source": [
    "balance = 1000 # global value\n",
    "\n",
    "def withdraw(amount_in_dollar):\n",
    "    global balance\n",
    "    # your implementation"
   ]
  },
  {
   "cell_type": "code",
   "execution_count": null,
   "id": "366e90ea-41e8-47b4-9569-62eab4d416f0",
   "metadata": {},
   "outputs": [],
   "source": []
  },
  {
   "cell_type": "code",
   "execution_count": null,
   "id": "cbb0fcdb-5a48-4759-9cd5-98b95956d208",
   "metadata": {},
   "outputs": [],
   "source": []
  },
  {
   "cell_type": "code",
   "execution_count": null,
   "id": "8b02caf3-9d02-4c92-9b30-b7163c7a25cc",
   "metadata": {},
   "outputs": [],
   "source": []
  },
  {
   "cell_type": "markdown",
   "id": "090991a7-cb3f-4c14-88b8-3f3de4596eff",
   "metadata": {},
   "source": [
    "## You shouldn't allow anyone to withdraw negative amount\n",
    "\n",
    "*Task*: Improve the withdraw method\n",
    "\n",
    "- On getting negative amount, print: \"Invalid withdraw amount -1000, withdraw amount should > 0\"\n",
    "- Keep the remaining balance\n"
   ]
  },
  {
   "cell_type": "code",
   "execution_count": null,
   "id": "cbfbd7af-f06d-4375-937c-de4955f07303",
   "metadata": {},
   "outputs": [],
   "source": [
    "def withdraw_v2(amount_in_dollar):\n",
    "    # your enhancement\n",
    "    return withdraw(amount_in_dollar)"
   ]
  },
  {
   "cell_type": "code",
   "execution_count": null,
   "id": "2eb270ea-a8a1-4801-a9e5-18c16d11f986",
   "metadata": {},
   "outputs": [],
   "source": []
  },
  {
   "cell_type": "code",
   "execution_count": null,
   "id": "bb10cba2-0c83-412f-be81-d5f544729d88",
   "metadata": {},
   "outputs": [],
   "source": []
  },
  {
   "cell_type": "markdown",
   "id": "098cb23b-f024-4d08-aa0f-83eddc19ca5f",
   "metadata": {},
   "source": [
    "## You shouldn't allow overdraw\n",
    "\n",
    "*Task*: Improve the withdraw method\n",
    "\n",
    "- If the customer attempts to overdraw, print: \"In-sufficent balance for withdrawing 10000.\"\n",
    "- Keep the remaining balance\n"
   ]
  },
  {
   "cell_type": "code",
   "execution_count": null,
   "id": "c1fb868c-6335-4b86-9496-2df145933c95",
   "metadata": {},
   "outputs": [],
   "source": [
    "def withdraw_v3(amount_in_dollar):\n",
    "    # your enhancement\n",
    "\n",
    "    return withdraw_2(amount_in_dollar)"
   ]
  },
  {
   "cell_type": "code",
   "execution_count": null,
   "id": "db9f05ff-40b3-4ae6-9a4e-0e592a63beb5",
   "metadata": {},
   "outputs": [],
   "source": []
  },
  {
   "cell_type": "code",
   "execution_count": null,
   "id": "dec65d1a-3118-41b6-904c-4d151ec12f96",
   "metadata": {},
   "outputs": [],
   "source": []
  }
 ],
 "metadata": {
  "kernelspec": {
   "display_name": "Python (Global)",
   "language": "python",
   "name": "global-python"
  },
  "language_info": {
   "codemirror_mode": {
    "name": "ipython",
    "version": 3
   },
   "file_extension": ".py",
   "mimetype": "text/x-python",
   "name": "python",
   "nbconvert_exporter": "python",
   "pygments_lexer": "ipython3",
   "version": "3.11.7"
  }
 },
 "nbformat": 4,
 "nbformat_minor": 5
}
